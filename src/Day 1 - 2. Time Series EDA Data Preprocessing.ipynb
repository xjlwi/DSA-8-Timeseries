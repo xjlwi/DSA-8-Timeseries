{
 "cells": [
  {
   "cell_type": "code",
   "execution_count": 1,
   "metadata": {},
   "outputs": [
    {
     "name": "stdout",
     "output_type": "stream",
     "text": [
      "Collecting rise"
     ]
    },
    {
     "name": "stderr",
     "output_type": "stream",
     "text": [
      "WARNING: You are using pip version 20.2.3; however, version 22.0.3 is available.\n",
      "You should consider upgrading via the 'c:\\users\\crystallwi.xiaujing\\appdata\\local\\programs\\python\\python39\\python.exe -m pip install --upgrade pip' command.\n"
     ]
    },
    {
     "name": "stdout",
     "output_type": "stream",
     "text": [
      "\n",
      "  Using cached rise-5.7.1-py2.py3-none-any.whl (4.3 MB)\n",
      "Collecting notebook>=6.0\n",
      "  Downloading notebook-6.4.8-py3-none-any.whl (9.9 MB)\n",
      "Collecting prometheus-client\n",
      "  Downloading prometheus_client-0.13.1-py3-none-any.whl (57 kB)\n",
      "Collecting jupyter-client>=5.3.4\n",
      "  Using cached jupyter_client-7.1.2-py3-none-any.whl (130 kB)\n",
      "Collecting Send2Trash>=1.8.0\n",
      "  Using cached Send2Trash-1.8.0-py3-none-any.whl (18 kB)\n",
      "Collecting terminado>=0.8.3\n",
      "  Downloading terminado-0.13.1-py3-none-any.whl (14 kB)\n",
      "Collecting nest-asyncio>=1.5\n",
      "  Using cached nest_asyncio-1.5.4-py3-none-any.whl (5.1 kB)\n",
      "Collecting jinja2\n",
      "  Using cached Jinja2-3.0.3-py3-none-any.whl (133 kB)\n",
      "Collecting pyzmq>=17\n",
      "  Using cached pyzmq-22.3.0-cp39-cp39-win_amd64.whl (1.0 MB)\n",
      "Collecting nbconvert\n",
      "  Downloading nbconvert-6.4.2-py3-none-any.whl (558 kB)\n",
      "Collecting nbformat\n",
      "  Using cached nbformat-5.1.3-py3-none-any.whl (178 kB)\n",
      "Collecting ipykernel\n",
      "  Using cached ipykernel-6.9.1-py3-none-any.whl (128 kB)\n",
      "Collecting traitlets>=4.2.1\n",
      "  Using cached traitlets-5.1.1-py3-none-any.whl (102 kB)\n",
      "Collecting ipython-genutils\n",
      "  Using cached ipython_genutils-0.2.0-py2.py3-none-any.whl (26 kB)\n",
      "Collecting jupyter-core>=4.6.1\n",
      "  Using cached jupyter_core-4.9.2-py3-none-any.whl (86 kB)\n",
      "Collecting argon2-cffi\n",
      "  Using cached argon2_cffi-21.3.0-py3-none-any.whl (14 kB)\n",
      "Collecting tornado>=6.1\n",
      "  Using cached tornado-6.1-cp39-cp39-win_amd64.whl (422 kB)\n",
      "Collecting entrypoints\n",
      "  Using cached entrypoints-0.4-py3-none-any.whl (5.3 kB)\n",
      "Collecting python-dateutil>=2.1\n",
      "  Using cached python_dateutil-2.8.2-py2.py3-none-any.whl (247 kB)\n",
      "Collecting pywinpty>=1.1.0; os_name == \"nt\"\n",
      "  Downloading pywinpty-2.0.2-cp39-none-win_amd64.whl (1.4 MB)\n",
      "Collecting MarkupSafe>=2.0\n",
      "  Downloading MarkupSafe-2.1.0-cp39-cp39-win_amd64.whl (16 kB)\n",
      "Collecting jupyterlab-pygments\n",
      "  Using cached jupyterlab_pygments-0.1.2-py2.py3-none-any.whl (4.6 kB)\n",
      "Collecting defusedxml\n",
      "  Using cached defusedxml-0.7.1-py2.py3-none-any.whl (25 kB)\n",
      "Collecting testpath\n",
      "  Using cached testpath-0.5.0-py3-none-any.whl (84 kB)\n",
      "Collecting pandocfilters>=1.4.1\n",
      "  Using cached pandocfilters-1.5.0-py2.py3-none-any.whl (8.7 kB)\n",
      "Collecting nbclient<0.6.0,>=0.5.0\n",
      "  Downloading nbclient-0.5.11-py3-none-any.whl (71 kB)\n",
      "Collecting pygments>=2.4.1\n",
      "  Using cached Pygments-2.11.2-py3-none-any.whl (1.1 MB)\n",
      "Collecting mistune<2,>=0.8.1\n",
      "  Using cached mistune-0.8.4-py2.py3-none-any.whl (16 kB)\n",
      "Collecting bleach\n",
      "  Using cached bleach-4.1.0-py2.py3-none-any.whl (157 kB)\n",
      "Collecting jsonschema!=2.5.0,>=2.4\n",
      "  Using cached jsonschema-4.4.0-py3-none-any.whl (72 kB)\n",
      "Collecting debugpy<2.0,>=1.0.0\n",
      "  Using cached debugpy-1.5.1-cp39-cp39-win_amd64.whl (4.4 MB)\n",
      "Collecting ipython>=7.23.1\n",
      "  Using cached ipython-8.0.1-py3-none-any.whl (747 kB)\n",
      "Collecting matplotlib-inline<0.2.0,>=0.1.0\n",
      "  Using cached matplotlib_inline-0.1.3-py3-none-any.whl (8.2 kB)\n",
      "Collecting pywin32>=1.0; sys_platform == \"win32\" and platform_python_implementation != \"PyPy\"\n",
      "  Using cached pywin32-303-cp39-cp39-win_amd64.whl (9.3 MB)\n",
      "Collecting argon2-cffi-bindings\n",
      "  Using cached argon2_cffi_bindings-21.2.0-cp36-abi3-win_amd64.whl (30 kB)\n",
      "Collecting six>=1.5\n",
      "  Using cached six-1.16.0-py2.py3-none-any.whl (11 kB)\n",
      "Collecting webencodings\n",
      "  Using cached webencodings-0.5.1-py2.py3-none-any.whl (11 kB)\n",
      "Collecting packaging\n",
      "  Using cached packaging-21.3-py3-none-any.whl (40 kB)\n",
      "Collecting pyrsistent!=0.17.0,!=0.17.1,!=0.17.2,>=0.14.0\n",
      "  Using cached pyrsistent-0.18.1-cp39-cp39-win_amd64.whl (61 kB)\n",
      "Collecting attrs>=17.4.0\n",
      "  Using cached attrs-21.4.0-py2.py3-none-any.whl (60 kB)\n",
      "Collecting jedi>=0.16\n",
      "  Using cached jedi-0.18.1-py2.py3-none-any.whl (1.6 MB)\n",
      "Collecting decorator\n",
      "  Using cached decorator-5.1.1-py3-none-any.whl (9.1 kB)\n",
      "Collecting stack-data\n",
      "  Using cached stack_data-0.2.0-py3-none-any.whl (21 kB)\n",
      "Collecting pickleshare\n",
      "  Using cached pickleshare-0.7.5-py2.py3-none-any.whl (6.9 kB)\n",
      "Collecting colorama; sys_platform == \"win32\"\n",
      "  Using cached colorama-0.4.4-py2.py3-none-any.whl (16 kB)\n",
      "Collecting prompt-toolkit!=3.0.0,!=3.0.1,<3.1.0,>=2.0.0\n",
      "  Using cached prompt_toolkit-3.0.28-py3-none-any.whl (380 kB)\n",
      "Collecting backcall\n",
      "  Using cached backcall-0.2.0-py2.py3-none-any.whl (11 kB)\n",
      "Requirement already satisfied: setuptools>=18.5 in c:\\users\\crystallwi.xiaujing\\appdata\\local\\programs\\python\\python39\\lib\\site-packages (from ipython>=7.23.1->ipykernel->notebook>=6.0->rise) (49.2.1)\n",
      "Collecting black\n",
      "  Using cached black-22.1.0-cp39-cp39-win_amd64.whl (1.1 MB)\n",
      "Collecting cffi>=1.0.1\n",
      "  Using cached cffi-1.15.0-cp39-cp39-win_amd64.whl (180 kB)\n",
      "Collecting pyparsing!=3.0.5,>=2.0.2\n",
      "  Using cached pyparsing-3.0.7-py3-none-any.whl (98 kB)\n",
      "Collecting parso<0.9.0,>=0.8.0\n",
      "  Using cached parso-0.8.3-py2.py3-none-any.whl (100 kB)\n",
      "Collecting asttokens\n",
      "  Using cached asttokens-2.0.5-py2.py3-none-any.whl (20 kB)\n",
      "Collecting executing\n",
      "  Using cached executing-0.8.2-py2.py3-none-any.whl (16 kB)\n",
      "Collecting pure-eval\n",
      "  Using cached pure_eval-0.2.2-py3-none-any.whl (11 kB)\n",
      "Collecting wcwidth\n",
      "  Using cached wcwidth-0.2.5-py2.py3-none-any.whl (30 kB)\n",
      "Collecting tomli>=1.1.0\n",
      "  Using cached tomli-2.0.1-py3-none-any.whl (12 kB)\n",
      "Collecting typing-extensions>=3.10.0.0; python_version < \"3.10\"\n",
      "  Using cached typing_extensions-4.1.1-py3-none-any.whl (26 kB)\n",
      "Collecting pathspec>=0.9.0\n",
      "  Using cached pathspec-0.9.0-py2.py3-none-any.whl (31 kB)\n",
      "Collecting platformdirs>=2\n",
      "  Downloading platformdirs-2.5.1-py3-none-any.whl (14 kB)\n",
      "Collecting mypy-extensions>=0.4.3\n",
      "  Using cached mypy_extensions-0.4.3-py2.py3-none-any.whl (4.5 kB)\n",
      "Collecting click>=8.0.0\n",
      "  Using cached click-8.0.4-py3-none-any.whl (97 kB)\n",
      "Collecting pycparser\n",
      "  Using cached pycparser-2.21-py2.py3-none-any.whl (118 kB)\n",
      "Installing collected packages: prometheus-client, entrypoints, pyzmq, traitlets, nest-asyncio, pywin32, jupyter-core, six, python-dateutil, tornado, jupyter-client, Send2Trash, pywinpty, terminado, MarkupSafe, jinja2, pygments, jupyterlab-pygments, defusedxml, testpath, ipython-genutils, pyrsistent, attrs, jsonschema, nbformat, pandocfilters, nbclient, mistune, webencodings, pyparsing, packaging, bleach, nbconvert, debugpy, parso, jedi, decorator, asttokens, executing, pure-eval, stack-data, pickleshare, colorama, matplotlib-inline, wcwidth, prompt-toolkit, backcall, tomli, typing-extensions, pathspec, platformdirs, mypy-extensions, click, black, ipython, ipykernel, pycparser, cffi, argon2-cffi-bindings, argon2-cffi, notebook, rise\n",
      "Successfully installed MarkupSafe-2.1.0 Send2Trash-1.8.0 argon2-cffi-21.3.0 argon2-cffi-bindings-21.2.0 asttokens-2.0.5 attrs-21.4.0 backcall-0.2.0 black-22.1.0 bleach-4.1.0 cffi-1.15.0 click-8.0.4 colorama-0.4.4 debugpy-1.5.1 decorator-5.1.1 defusedxml-0.7.1 entrypoints-0.4 executing-0.8.2 ipykernel-6.9.1 ipython-8.0.1 ipython-genutils-0.2.0 jedi-0.18.1 jinja2-3.0.3 jsonschema-4.4.0 jupyter-client-7.1.2 jupyter-core-4.9.2 jupyterlab-pygments-0.1.2 matplotlib-inline-0.1.3 mistune-0.8.4 mypy-extensions-0.4.3 nbclient-0.5.11 nbconvert-6.4.2 nbformat-5.1.3 nest-asyncio-1.5.4 notebook-6.4.8 packaging-21.3 pandocfilters-1.5.0 parso-0.8.3 pathspec-0.9.0 pickleshare-0.7.5 platformdirs-2.5.1 prometheus-client-0.13.1 prompt-toolkit-3.0.28 pure-eval-0.2.2 pycparser-2.21 pygments-2.11.2 pyparsing-3.0.7 pyrsistent-0.18.1 python-dateutil-2.8.2 pywin32-303 pywinpty-2.0.2 pyzmq-22.3.0 rise-5.7.1 six-1.16.0 stack-data-0.2.0 terminado-0.13.1 testpath-0.5.0 tomli-2.0.1 tornado-6.1 traitlets-5.1.1 typing-extensions-4.1.1 wcwidth-0.2.5 webencodings-0.5.1\n"
     ]
    }
   ],
   "source": [
    "!pip install rise"
   ]
  },
  {
   "cell_type": "code",
   "execution_count": 1,
   "metadata": {},
   "outputs": [
    {
     "data": {
      "text/html": [
       "<style>\n",
       "h1 {\n",
       "  # border: 1.5px solid #333;\n",
       "  padding: 15px 15px;\n",
       "  # background-image: linear-gradient(180deg, #fff, rgb(160, 147, 147));\n",
       "  background-color: #00A19C;\n",
       "  color: #FFFFFF;\n",
       "  position: static;\n",
       "}\n",
       "\n",
       "h2 {\n",
       "\tpadding: 15px 15px;\n",
       "\tcolor: #00746E;\n",
       "\tposition: static;\n",
       "}\n",
       "\n",
       "h3 {\n",
       "\tpadding: 15px 15px;\n",
       "\tcolor: #9F79B7;\n",
       "\tposition: static;\n",
       "}\n",
       "\n",
       "div.warn {    \n",
       "    background-color: #fcf2f2;\n",
       "    border-color: #dFb5b4;\n",
       "    border-left: 5px solid #dfb5b4;\n",
       "    padding: 0.5em;\n",
       "    }\n",
       "\t\n",
       ".rise-enabled .reveal .slides h1\n",
       " {\n",
       "    color: white;\n",
       "\tpadding-top: 15px;\n",
       "\tpadding-bottom: 15px;\n",
       " }\n",
       " .rise-enabled .reveal .slides h2\n",
       " {\n",
       "    color: #00746E;\n",
       " }\n",
       " .rise-enabled .reveal .slides h3\n",
       " {\n",
       "    color: #9F79B7;\n",
       " }\n",
       " .rise-enabled .reveal .slides p.output_subarea>pre\n",
       " {\n",
       "    color: black;\n",
       " }\n",
       " \n",
       "</style>"
      ],
      "text/plain": [
       "<IPython.core.display.HTML object>"
      ]
     },
     "execution_count": 1,
     "metadata": {},
     "output_type": "execute_result"
    }
   ],
   "source": [
    "# Styling notebook\n",
    "from IPython.core.display import HTML\n",
    "def css_styling():\n",
    "    styles = open(\"rise.css\", \"r\").read()\n",
    "    return HTML(styles)\n",
    "css_styling()"
   ]
  },
  {
   "cell_type": "markdown",
   "metadata": {
    "slideshow": {
     "slide_type": "slide"
    }
   },
   "source": [
    "<div style=\"font-size:2em; text-align:center; margin-top:30px; margin-bottom:20px\">Data Science Academy 8</div>\n",
    "<hr>\n",
    "<br>\n",
    "\n",
    "<div style=\"font-size:4em; text-align:center; margin-bottom:30px; color:#00746E\"><b>Time Series Data Pre-processing</b></div>\n"
   ]
  },
  {
   "cell_type": "markdown",
   "metadata": {
    "slideshow": {
     "slide_type": "subslide"
    }
   },
   "source": [
    "Pro-processing time series data is an important step in building a time series model. It gives important insights on the behaviour of the data. <b> Different forecasting model </b> have <b> different assumption</b> on the data and they work best on the suitable type of data. \n",
    "Below are some common pre-processing methods dealing with time series data. The dataset used is imported from `airline-passengers.csv`.\n",
    "\n",
    "We will be using the `statsmodels` module for time-series preprocessing. More info: https://www.statsmodels.org/stable/index.html"
   ]
  },
  {
   "cell_type": "code",
   "execution_count": 2,
   "metadata": {
    "slideshow": {
     "slide_type": "fragment"
    }
   },
   "outputs": [],
   "source": [
    "import pandas as pd\n",
    "import numpy as np\n",
    "from matplotlib import pyplot\n",
    "from statsmodels.tsa.seasonal import seasonal_decompose\n",
    "from statsmodels.tsa.stattools import adfuller\n",
    "from statsmodels.graphics.tsaplots import plot_acf\n",
    "from statsmodels.graphics.tsaplots import plot_pacf"
   ]
  },
  {
   "cell_type": "code",
   "execution_count": 3,
   "metadata": {
    "scrolled": true,
    "slideshow": {
     "slide_type": "subslide"
    }
   },
   "outputs": [
    {
     "data": {
      "text/html": [
       "<div>\n",
       "<style scoped>\n",
       "    .dataframe tbody tr th:only-of-type {\n",
       "        vertical-align: middle;\n",
       "    }\n",
       "\n",
       "    .dataframe tbody tr th {\n",
       "        vertical-align: top;\n",
       "    }\n",
       "\n",
       "    .dataframe thead th {\n",
       "        text-align: right;\n",
       "    }\n",
       "</style>\n",
       "<table border=\"1\" class=\"dataframe\">\n",
       "  <thead>\n",
       "    <tr style=\"text-align: right;\">\n",
       "      <th></th>\n",
       "      <th>Month</th>\n",
       "      <th>Thousands of Passengers</th>\n",
       "    </tr>\n",
       "  </thead>\n",
       "  <tbody>\n",
       "    <tr>\n",
       "      <th>0</th>\n",
       "      <td>1949-01</td>\n",
       "      <td>112</td>\n",
       "    </tr>\n",
       "    <tr>\n",
       "      <th>1</th>\n",
       "      <td>1949-02</td>\n",
       "      <td>118</td>\n",
       "    </tr>\n",
       "    <tr>\n",
       "      <th>2</th>\n",
       "      <td>1949-03</td>\n",
       "      <td>132</td>\n",
       "    </tr>\n",
       "    <tr>\n",
       "      <th>3</th>\n",
       "      <td>1949-04</td>\n",
       "      <td>129</td>\n",
       "    </tr>\n",
       "    <tr>\n",
       "      <th>4</th>\n",
       "      <td>1949-05</td>\n",
       "      <td>121</td>\n",
       "    </tr>\n",
       "    <tr>\n",
       "      <th>5</th>\n",
       "      <td>1949-06</td>\n",
       "      <td>135</td>\n",
       "    </tr>\n",
       "    <tr>\n",
       "      <th>6</th>\n",
       "      <td>1949-07</td>\n",
       "      <td>148</td>\n",
       "    </tr>\n",
       "    <tr>\n",
       "      <th>7</th>\n",
       "      <td>1949-08</td>\n",
       "      <td>148</td>\n",
       "    </tr>\n",
       "    <tr>\n",
       "      <th>8</th>\n",
       "      <td>1949-09</td>\n",
       "      <td>136</td>\n",
       "    </tr>\n",
       "    <tr>\n",
       "      <th>9</th>\n",
       "      <td>1949-10</td>\n",
       "      <td>119</td>\n",
       "    </tr>\n",
       "  </tbody>\n",
       "</table>\n",
       "</div>"
      ],
      "text/plain": [
       "     Month  Thousands of Passengers\n",
       "0  1949-01                      112\n",
       "1  1949-02                      118\n",
       "2  1949-03                      132\n",
       "3  1949-04                      129\n",
       "4  1949-05                      121\n",
       "5  1949-06                      135\n",
       "6  1949-07                      148\n",
       "7  1949-08                      148\n",
       "8  1949-09                      136\n",
       "9  1949-10                      119"
      ]
     },
     "execution_count": 3,
     "metadata": {},
     "output_type": "execute_result"
    }
   ],
   "source": [
    "data1 = pd.read_csv('../input/airline_passengers.csv')\n",
    "data1.head(10)"
   ]
  },
  {
   "cell_type": "code",
   "execution_count": 4,
   "metadata": {
    "slideshow": {
     "slide_type": "subslide"
    }
   },
   "outputs": [
    {
     "data": {
      "text/plain": [
       "<AxesSubplot:>"
      ]
     },
     "execution_count": 4,
     "metadata": {},
     "output_type": "execute_result"
    },
    {
     "data": {
      "image/png": "[encoded data removed]",
      "text/plain": [
       "<Figure size 432x288 with 1 Axes>"
      ]
     },
     "metadata": {
      "needs_background": "light"
     },
     "output_type": "display_data"
    }
   ],
   "source": [
    "data1.plot()"
   ]
  },
  {
   "cell_type": "code",
   "execution_count": 5,
   "metadata": {
    "scrolled": true,
    "slideshow": {
     "slide_type": "subslide"
    }
   },
   "outputs": [
    {
     "data": {
      "text/html": [
       "<div>\n",
       "<style scoped>\n",
       "    .dataframe tbody tr th:only-of-type {\n",
       "        vertical-align: middle;\n",
       "    }\n",
       "\n",
       "    .dataframe tbody tr th {\n",
       "        vertical-align: top;\n",
       "    }\n",
       "\n",
       "    .dataframe thead th {\n",
       "        text-align: right;\n",
       "    }\n",
       "</style>\n",
       "<table border=\"1\" class=\"dataframe\">\n",
       "  <thead>\n",
       "    <tr style=\"text-align: right;\">\n",
       "      <th></th>\n",
       "      <th>Thousands of Passengers</th>\n",
       "    </tr>\n",
       "    <tr>\n",
       "      <th>Month</th>\n",
       "      <th></th>\n",
       "    </tr>\n",
       "  </thead>\n",
       "  <tbody>\n",
       "    <tr>\n",
       "      <th>1949-01-01</th>\n",
       "      <td>112</td>\n",
       "    </tr>\n",
       "    <tr>\n",
       "      <th>1949-02-01</th>\n",
       "      <td>118</td>\n",
       "    </tr>\n",
       "    <tr>\n",
       "      <th>1949-03-01</th>\n",
       "      <td>132</td>\n",
       "    </tr>\n",
       "    <tr>\n",
       "      <th>1949-04-01</th>\n",
       "      <td>129</td>\n",
       "    </tr>\n",
       "    <tr>\n",
       "      <th>1949-05-01</th>\n",
       "      <td>121</td>\n",
       "    </tr>\n",
       "    <tr>\n",
       "      <th>1949-06-01</th>\n",
       "      <td>135</td>\n",
       "    </tr>\n",
       "    <tr>\n",
       "      <th>1949-07-01</th>\n",
       "      <td>148</td>\n",
       "    </tr>\n",
       "    <tr>\n",
       "      <th>1949-08-01</th>\n",
       "      <td>148</td>\n",
       "    </tr>\n",
       "    <tr>\n",
       "      <th>1949-09-01</th>\n",
       "      <td>136</td>\n",
       "    </tr>\n",
       "    <tr>\n",
       "      <th>1949-10-01</th>\n",
       "      <td>119</td>\n",
       "    </tr>\n",
       "  </tbody>\n",
       "</table>\n",
       "</div>"
      ],
      "text/plain": [
       "            Thousands of Passengers\n",
       "Month                              \n",
       "1949-01-01                      112\n",
       "1949-02-01                      118\n",
       "1949-03-01                      132\n",
       "1949-04-01                      129\n",
       "1949-05-01                      121\n",
       "1949-06-01                      135\n",
       "1949-07-01                      148\n",
       "1949-08-01                      148\n",
       "1949-09-01                      136\n",
       "1949-10-01                      119"
      ]
     },
     "execution_count": 5,
     "metadata": {},
     "output_type": "execute_result"
    }
   ],
   "source": [
    "# Converting our index colume to pandas datetime \n",
    "data1.index = pd.to_datetime(data1['Month'], format = \"%Y-%m\")\n",
    "data1 = data1.drop(columns = \"Month\")\n",
    "data1.head(10)"
   ]
  },
  {
   "cell_type": "markdown",
   "metadata": {
    "slideshow": {
     "slide_type": "slide"
    }
   },
   "source": [
    "## 1. STL Decomposition "
   ]
  },
  {
   "cell_type": "markdown",
   "metadata": {
    "slideshow": {
     "slide_type": "subslide"
    }
   },
   "source": [
    "After converting the proper datetime column, the time series data can be decomposed into 3 components: <font color='#20419b'>'Trend', 'Seasonal' and 'Residual'</font>.\n",
    "\n",
    "'Obeserved' \n",
    "is the orignal dataset before decomposing. \n",
    "\n",
    "Decomposing a time series data helps to visualize the <font color = 'blue'> trend and seasonality component</font>. A time series can be decomposed using <u>additive method</u> or <u> multiplicative</u> method."
   ]
  },
  {
   "cell_type": "code",
   "execution_count": 45,
   "metadata": {
    "scrolled": true,
    "slideshow": {
     "slide_type": "subslide"
    }
   },
   "outputs": [
    {
     "data": {
      "image/png": "[encoded data removed]",
      "text/plain": [
       "<Figure size 432x288 with 4 Axes>"
      ]
     },
     "metadata": {
      "needs_background": "light"
     },
     "output_type": "display_data"
    }
   ],
   "source": [
    "result1 = seasonal_decompose(data1, model='additive')\n",
    "result1.plot()\n",
    "pyplot.show()"
   ]
  },
  {
   "cell_type": "code",
   "execution_count": 50,
   "metadata": {
    "scrolled": true,
    "slideshow": {
     "slide_type": "subslide"
    }
   },
   "outputs": [
    {
     "data": {
      "text/html": [
       "<div>\n",
       "<style scoped>\n",
       "    .dataframe tbody tr th:only-of-type {\n",
       "        vertical-align: middle;\n",
       "    }\n",
       "\n",
       "    .dataframe tbody tr th {\n",
       "        vertical-align: top;\n",
       "    }\n",
       "\n",
       "    .dataframe thead th {\n",
       "        text-align: right;\n",
       "    }\n",
       "</style>\n",
       "<table border=\"1\" class=\"dataframe\">\n",
       "  <thead>\n",
       "    <tr style=\"text-align: right;\">\n",
       "      <th></th>\n",
       "      <th>observed</th>\n",
       "      <th>trend</th>\n",
       "      <th>seasonality</th>\n",
       "      <th>residuals</th>\n",
       "    </tr>\n",
       "  </thead>\n",
       "  <tbody>\n",
       "    <tr>\n",
       "      <th>0</th>\n",
       "      <td>112.0</td>\n",
       "      <td>NaN</td>\n",
       "      <td>-24.748737</td>\n",
       "      <td>NaN</td>\n",
       "    </tr>\n",
       "    <tr>\n",
       "      <th>1</th>\n",
       "      <td>118.0</td>\n",
       "      <td>NaN</td>\n",
       "      <td>-36.188131</td>\n",
       "      <td>NaN</td>\n",
       "    </tr>\n",
       "    <tr>\n",
       "      <th>2</th>\n",
       "      <td>132.0</td>\n",
       "      <td>NaN</td>\n",
       "      <td>-2.241162</td>\n",
       "      <td>NaN</td>\n",
       "    </tr>\n",
       "    <tr>\n",
       "      <th>3</th>\n",
       "      <td>129.0</td>\n",
       "      <td>NaN</td>\n",
       "      <td>-8.036616</td>\n",
       "      <td>NaN</td>\n",
       "    </tr>\n",
       "    <tr>\n",
       "      <th>4</th>\n",
       "      <td>121.0</td>\n",
       "      <td>NaN</td>\n",
       "      <td>-4.506313</td>\n",
       "      <td>NaN</td>\n",
       "    </tr>\n",
       "    <tr>\n",
       "      <th>5</th>\n",
       "      <td>135.0</td>\n",
       "      <td>NaN</td>\n",
       "      <td>35.402778</td>\n",
       "      <td>NaN</td>\n",
       "    </tr>\n",
       "    <tr>\n",
       "      <th>6</th>\n",
       "      <td>148.0</td>\n",
       "      <td>126.791667</td>\n",
       "      <td>63.830808</td>\n",
       "      <td>-42.622475</td>\n",
       "    </tr>\n",
       "    <tr>\n",
       "      <th>7</th>\n",
       "      <td>148.0</td>\n",
       "      <td>127.250000</td>\n",
       "      <td>62.823232</td>\n",
       "      <td>-42.073232</td>\n",
       "    </tr>\n",
       "    <tr>\n",
       "      <th>8</th>\n",
       "      <td>136.0</td>\n",
       "      <td>127.958333</td>\n",
       "      <td>16.520202</td>\n",
       "      <td>-8.478535</td>\n",
       "    </tr>\n",
       "    <tr>\n",
       "      <th>9</th>\n",
       "      <td>119.0</td>\n",
       "      <td>128.583333</td>\n",
       "      <td>-20.642677</td>\n",
       "      <td>11.059343</td>\n",
       "    </tr>\n",
       "    <tr>\n",
       "      <th>10</th>\n",
       "      <td>104.0</td>\n",
       "      <td>129.000000</td>\n",
       "      <td>-53.593434</td>\n",
       "      <td>28.593434</td>\n",
       "    </tr>\n",
       "    <tr>\n",
       "      <th>11</th>\n",
       "      <td>118.0</td>\n",
       "      <td>129.750000</td>\n",
       "      <td>-28.619949</td>\n",
       "      <td>16.869949</td>\n",
       "    </tr>\n",
       "    <tr>\n",
       "      <th>12</th>\n",
       "      <td>115.0</td>\n",
       "      <td>131.250000</td>\n",
       "      <td>-24.748737</td>\n",
       "      <td>8.498737</td>\n",
       "    </tr>\n",
       "    <tr>\n",
       "      <th>13</th>\n",
       "      <td>126.0</td>\n",
       "      <td>133.083333</td>\n",
       "      <td>-36.188131</td>\n",
       "      <td>29.104798</td>\n",
       "    </tr>\n",
       "    <tr>\n",
       "      <th>14</th>\n",
       "      <td>141.0</td>\n",
       "      <td>134.916667</td>\n",
       "      <td>-2.241162</td>\n",
       "      <td>8.324495</td>\n",
       "    </tr>\n",
       "  </tbody>\n",
       "</table>\n",
       "</div>"
      ],
      "text/plain": [
       "    observed       trend  seasonality  residuals\n",
       "0      112.0         NaN   -24.748737        NaN\n",
       "1      118.0         NaN   -36.188131        NaN\n",
       "2      132.0         NaN    -2.241162        NaN\n",
       "3      129.0         NaN    -8.036616        NaN\n",
       "4      121.0         NaN    -4.506313        NaN\n",
       "5      135.0         NaN    35.402778        NaN\n",
       "6      148.0  126.791667    63.830808 -42.622475\n",
       "7      148.0  127.250000    62.823232 -42.073232\n",
       "8      136.0  127.958333    16.520202  -8.478535\n",
       "9      119.0  128.583333   -20.642677  11.059343\n",
       "10     104.0  129.000000   -53.593434  28.593434\n",
       "11     118.0  129.750000   -28.619949  16.869949\n",
       "12     115.0  131.250000   -24.748737   8.498737\n",
       "13     126.0  133.083333   -36.188131  29.104798\n",
       "14     141.0  134.916667    -2.241162   8.324495"
      ]
     },
     "execution_count": 50,
     "metadata": {},
     "output_type": "execute_result"
    }
   ],
   "source": [
    "values = pd.DataFrame({\"observed\": result1.observed.values, \n",
    "                       \"trend\":result1.trend.values, \"seasonality\": result1.seasonal.values,\n",
    "                      \"residuals\":result1.resid.values})\n",
    "values.head(15)"
   ]
  },
  {
   "cell_type": "code",
   "execution_count": 19,
   "metadata": {
    "scrolled": true,
    "slideshow": {
     "slide_type": "subslide"
    }
   },
   "outputs": [
    {
     "name": "stdout",
     "output_type": "stream",
     "text": [
      "Month\n",
      "1949-07-01    126.791667\n",
      "1949-08-01    127.250000\n",
      "1949-09-01    127.958333\n",
      "1949-10-01    128.583333\n",
      "1949-11-01    129.000000\n",
      "                 ...    \n",
      "1960-02-01    461.375000\n",
      "1960-03-01    465.208333\n",
      "1960-04-01    469.333333\n",
      "1960-05-01    472.750000\n",
      "1960-06-01    475.041667\n",
      "Name: trend, Length: 132, dtype: float64\n"
     ]
    }
   ],
   "source": [
    "tt = result1.trend\n",
    "tt.dropna(axis = 0, inplace = True)\n",
    "print (tt)"
   ]
  },
  {
   "cell_type": "code",
   "execution_count": 21,
   "metadata": {
    "scrolled": true,
    "slideshow": {
     "slide_type": "subslide"
    }
   },
   "outputs": [
    {
     "data": {
      "text/plain": [
       "Month\n",
       "1949-01-01   -24.748737\n",
       "1949-02-01   -36.188131\n",
       "1949-03-01    -2.241162\n",
       "1949-04-01    -8.036616\n",
       "1949-05-01    -4.506313\n",
       "                ...    \n",
       "1960-08-01    62.823232\n",
       "1960-09-01    16.520202\n",
       "1960-10-01   -20.642677\n",
       "1960-11-01   -53.593434\n",
       "1960-12-01   -28.619949\n",
       "Name: seasonal, Length: 144, dtype: float64"
      ]
     },
     "execution_count": 21,
     "metadata": {},
     "output_type": "execute_result"
    }
   ],
   "source": [
    "ss = result1.seasonal\n",
    "ss"
   ]
  },
  {
   "cell_type": "code",
   "execution_count": 25,
   "metadata": {
    "scrolled": true
   },
   "outputs": [
    {
     "data": {
      "text/plain": [
       "Month\n",
       "1949-07-01   -42.622475\n",
       "1949-08-01   -42.073232\n",
       "1949-09-01    -8.478535\n",
       "1949-10-01    11.059343\n",
       "1949-11-01    28.593434\n",
       "                ...    \n",
       "1960-02-01   -34.186869\n",
       "1960-03-01   -43.967172\n",
       "1960-04-01    -0.296717\n",
       "1960-05-01     3.756313\n",
       "1960-06-01    24.555556\n",
       "Name: resid, Length: 132, dtype: float64"
      ]
     },
     "execution_count": 25,
     "metadata": {},
     "output_type": "execute_result"
    }
   ],
   "source": [
    "resid = result1.resid\n",
    "resid.dropna(axis = 0, inplace = True)\n",
    "resid"
   ]
  },
  {
   "cell_type": "code",
   "execution_count": 31,
   "metadata": {
    "scrolled": true,
    "slideshow": {
     "slide_type": "slide"
    }
   },
   "outputs": [
    {
     "data": {
      "text/plain": [
       "Month\n",
       "1949-01-01    1.0\n",
       "1949-02-01    1.0\n",
       "1949-03-01    1.0\n",
       "1949-04-01    1.0\n",
       "1949-05-01    1.0\n",
       "             ... \n",
       "1960-08-01    1.0\n",
       "1960-09-01    1.0\n",
       "1960-10-01    1.0\n",
       "1960-11-01    1.0\n",
       "1960-12-01    1.0\n",
       "Name: weights, Length: 144, dtype: float64"
      ]
     },
     "execution_count": 31,
     "metadata": {},
     "output_type": "execute_result"
    }
   ],
   "source": [
    "weight = result1.weights\n",
    "weight.dropna(axis = 0, inplace = True)\n",
    "weight"
   ]
  },
  {
   "cell_type": "code",
   "execution_count": 39,
   "metadata": {
    "slideshow": {
     "slide_type": "subslide"
    }
   },
   "outputs": [
    {
     "data": {
      "text/plain": [
       "<bound method Series.unique of Month\n",
       "1949-01-01    1.0\n",
       "1949-02-01    1.0\n",
       "1949-03-01    1.0\n",
       "1949-04-01    1.0\n",
       "1949-05-01    1.0\n",
       "             ... \n",
       "1960-08-01    1.0\n",
       "1960-09-01    1.0\n",
       "1960-10-01    1.0\n",
       "1960-11-01    1.0\n",
       "1960-12-01    1.0\n",
       "Name: weights, Length: 144, dtype: float64>"
      ]
     },
     "execution_count": 39,
     "metadata": {},
     "output_type": "execute_result"
    }
   ],
   "source": [
    "weight2 = result2.weights\n",
    "weight2.dropna(axis = 0, inplace = True)\n",
    "weight2.unique"
   ]
  },
  {
   "cell_type": "code",
   "execution_count": 7,
   "metadata": {
    "slideshow": {
     "slide_type": "subslide"
    }
   },
   "outputs": [
    {
     "data": {
      "image/png": "[encoded data removed]",
      "text/plain": [
       "<Figure size 432x288 with 4 Axes>"
      ]
     },
     "metadata": {
      "needs_background": "light"
     },
     "output_type": "display_data"
    }
   ],
   "source": [
    "result2 = seasonal_decompose(data1, model='multiplicative')\n",
    "result2.plot()\n",
    "pyplot.show()"
   ]
  },
  {
   "cell_type": "markdown",
   "metadata": {
    "slideshow": {
     "slide_type": "fragment"
    }
   },
   "source": [
    "The lesser the variance of the residuals after decomposing, the better it is. The residuals of both method can be compared."
   ]
  },
  {
   "cell_type": "code",
   "execution_count": 34,
   "metadata": {
    "slideshow": {
     "slide_type": "subslide"
    }
   },
   "outputs": [
    {
     "data": {
      "text/plain": [
       "<matplotlib.axes._subplots.AxesSubplot at 0x1f6d11040f0>"
      ]
     },
     "execution_count": 34,
     "metadata": {},
     "output_type": "execute_result"
    },
    {
     "data": {
      "image/png": "[encoded data removed]",
      "text/plain": [
       "<Figure size 432x288 with 1 Axes>"
      ]
     },
     "metadata": {},
     "output_type": "display_data"
    }
   ],
   "source": [
    "result1.resid.plot()"
   ]
  },
  {
   "cell_type": "code",
   "execution_count": 35,
   "metadata": {
    "scrolled": true,
    "slideshow": {
     "slide_type": "subslide"
    }
   },
   "outputs": [
    {
     "data": {
      "text/plain": [
       "<matplotlib.axes._subplots.AxesSubplot at 0x1f6d285cfd0>"
      ]
     },
     "execution_count": 35,
     "metadata": {},
     "output_type": "execute_result"
    },
    {
     "data": {
      "image/png": "[encoded data removed]",
      "text/plain": [
       "<Figure size 432x288 with 1 Axes>"
      ]
     },
     "metadata": {},
     "output_type": "display_data"
    }
   ],
   "source": [
    "result2.resid.plot()"
   ]
  },
  {
   "cell_type": "markdown",
   "metadata": {
    "slideshow": {
     "slide_type": "slide"
    }
   },
   "source": [
    "## 2. Checking Stationarity using ADF"
   ]
  },
  {
   "cell_type": "markdown",
   "metadata": {
    "slideshow": {
     "slide_type": "subslide"
    }
   },
   "source": [
    "Another aspect to check for time series data is <font color = '#28419b'> stationarity </font>. This can be done using <b> <font color = '28419b'>Augmented Dickey-Fuller</font></b> test with `adfuller` function as shown below. The test is applied on both the residuals of <u> additive decomposition and multiplicative decomposition</u>. \n",
    "The objective is to make the <b>time series data stationary</b>, as this helps to produce better forecast results."
   ]
  },
  {
   "cell_type": "code",
   "execution_count": 36,
   "metadata": {
    "scrolled": true,
    "slideshow": {
     "slide_type": "subslide"
    }
   },
   "outputs": [
    {
     "name": "stdout",
     "output_type": "stream",
     "text": [
      "ADF Statistic: 0.815369\n",
      "p-value: 0.991880\n",
      "Critical Values:\n",
      "\t1%: -3.482\n",
      "\t5%: -2.884\n",
      "\t10%: -2.579\n"
     ]
    }
   ],
   "source": [
    "adtest = adfuller(data1['Passengers'])\n",
    "print('ADF Statistic: %f' % adtest[0])\n",
    "print('p-value: %f' % adtest[1])\n",
    "print('Critical Values:')\n",
    "for key, value in adtest[4].items():\n",
    "    print('\\t%s: %.3f' % (key, value))"
   ]
  },
  {
   "cell_type": "markdown",
   "metadata": {
    "slideshow": {
     "slide_type": "fragment"
    }
   },
   "source": [
    "The 'NAN' values in residuals of result2 should be remove before running the 'adfuller' function to prevent error."
   ]
  },
  {
   "cell_type": "code",
   "execution_count": 37,
   "metadata": {
    "slideshow": {
     "slide_type": "subslide"
    }
   },
   "outputs": [
    {
     "data": {
      "text/html": [
       "<div>\n",
       "<style scoped>\n",
       "    .dataframe tbody tr th:only-of-type {\n",
       "        vertical-align: middle;\n",
       "    }\n",
       "\n",
       "    .dataframe tbody tr th {\n",
       "        vertical-align: top;\n",
       "    }\n",
       "\n",
       "    .dataframe thead th {\n",
       "        text-align: right;\n",
       "    }\n",
       "</style>\n",
       "<table border=\"1\" class=\"dataframe\">\n",
       "  <thead>\n",
       "    <tr style=\"text-align: right;\">\n",
       "      <th></th>\n",
       "      <th>Passengers</th>\n",
       "    </tr>\n",
       "    <tr>\n",
       "      <th>Month</th>\n",
       "      <th></th>\n",
       "    </tr>\n",
       "  </thead>\n",
       "  <tbody>\n",
       "    <tr>\n",
       "      <th>1949-01-01</th>\n",
       "      <td>NaN</td>\n",
       "    </tr>\n",
       "    <tr>\n",
       "      <th>1949-02-01</th>\n",
       "      <td>NaN</td>\n",
       "    </tr>\n",
       "    <tr>\n",
       "      <th>1949-03-01</th>\n",
       "      <td>NaN</td>\n",
       "    </tr>\n",
       "    <tr>\n",
       "      <th>1949-04-01</th>\n",
       "      <td>NaN</td>\n",
       "    </tr>\n",
       "    <tr>\n",
       "      <th>1949-05-01</th>\n",
       "      <td>NaN</td>\n",
       "    </tr>\n",
       "    <tr>\n",
       "      <th>1949-06-01</th>\n",
       "      <td>NaN</td>\n",
       "    </tr>\n",
       "    <tr>\n",
       "      <th>1949-07-01</th>\n",
       "      <td>0.951664</td>\n",
       "    </tr>\n",
       "    <tr>\n",
       "      <th>1949-08-01</th>\n",
       "      <td>0.953401</td>\n",
       "    </tr>\n",
       "    <tr>\n",
       "      <th>1949-09-01</th>\n",
       "      <td>1.002220</td>\n",
       "    </tr>\n",
       "    <tr>\n",
       "      <th>1949-10-01</th>\n",
       "      <td>1.004028</td>\n",
       "    </tr>\n",
       "    <tr>\n",
       "      <th>1949-11-01</th>\n",
       "      <td>1.006270</td>\n",
       "    </tr>\n",
       "    <tr>\n",
       "      <th>1949-12-01</th>\n",
       "      <td>1.011812</td>\n",
       "    </tr>\n",
       "    <tr>\n",
       "      <th>1950-01-01</th>\n",
       "      <td>0.962603</td>\n",
       "    </tr>\n",
       "    <tr>\n",
       "      <th>1950-02-01</th>\n",
       "      <td>1.071467</td>\n",
       "    </tr>\n",
       "    <tr>\n",
       "      <th>1950-03-01</th>\n",
       "      <td>1.037447</td>\n",
       "    </tr>\n",
       "    <tr>\n",
       "      <th>1950-04-01</th>\n",
       "      <td>1.014048</td>\n",
       "    </tr>\n",
       "    <tr>\n",
       "      <th>1950-05-01</th>\n",
       "      <td>0.926903</td>\n",
       "    </tr>\n",
       "    <tr>\n",
       "      <th>1950-06-01</th>\n",
       "      <td>0.965041</td>\n",
       "    </tr>\n",
       "    <tr>\n",
       "      <th>1950-07-01</th>\n",
       "      <td>0.983557</td>\n",
       "    </tr>\n",
       "    <tr>\n",
       "      <th>1950-08-01</th>\n",
       "      <td>0.973372</td>\n",
       "    </tr>\n",
       "  </tbody>\n",
       "</table>\n",
       "</div>"
      ],
      "text/plain": [
       "            Passengers\n",
       "Month                 \n",
       "1949-01-01         NaN\n",
       "1949-02-01         NaN\n",
       "1949-03-01         NaN\n",
       "1949-04-01         NaN\n",
       "1949-05-01         NaN\n",
       "1949-06-01         NaN\n",
       "1949-07-01    0.951664\n",
       "1949-08-01    0.953401\n",
       "1949-09-01    1.002220\n",
       "1949-10-01    1.004028\n",
       "1949-11-01    1.006270\n",
       "1949-12-01    1.011812\n",
       "1950-01-01    0.962603\n",
       "1950-02-01    1.071467\n",
       "1950-03-01    1.037447\n",
       "1950-04-01    1.014048\n",
       "1950-05-01    0.926903\n",
       "1950-06-01    0.965041\n",
       "1950-07-01    0.983557\n",
       "1950-08-01    0.973372"
      ]
     },
     "execution_count": 37,
     "metadata": {},
     "output_type": "execute_result"
    }
   ],
   "source": [
    "result2.resid.head(20)"
   ]
  },
  {
   "cell_type": "code",
   "execution_count": 38,
   "metadata": {
    "scrolled": true,
    "slideshow": {
     "slide_type": "subslide"
    }
   },
   "outputs": [
    {
     "name": "stdout",
     "output_type": "stream",
     "text": [
      "ADF Statistic: -7.415925\n",
      "p-value: 0.000000\n",
      "Critical Values:\n",
      "\t1%: -3.484\n",
      "\t5%: -2.885\n",
      "\t10%: -2.579\n"
     ]
    }
   ],
   "source": [
    "residual = result2.resid\n",
    "residual = residual[~np.isnan(residual['Passengers'])]\n",
    "adtest2 = adfuller(residual['Passengers'])\n",
    "print('ADF Statistic: %f' % adtest2[0])\n",
    "print('p-value: %f' % adtest2[1])\n",
    "print('Critical Values:')\n",
    "for key, value in adtest2[4].items():\n",
    "    print('\\t%s: %.3f' % (key, value))"
   ]
  },
  {
   "cell_type": "markdown",
   "metadata": {
    "slideshow": {
     "slide_type": "fragment"
    }
   },
   "source": [
    "Both <b>residual plot</b> and <b>stationarity test</b> show that this time series data is considered 'multiplicative'. The result2 residuals have <font color='#20419b'>less variance and is stationary</font>."
   ]
  },
  {
   "cell_type": "markdown",
   "metadata": {
    "slideshow": {
     "slide_type": "slide"
    }
   },
   "source": [
    "## 3. ACF and PACF Test for auto-correlations/ determine significant lag"
   ]
  },
  {
   "cell_type": "markdown",
   "metadata": {
    "slideshow": {
     "slide_type": "subslide"
    }
   },
   "source": [
    "Another common analysis is autocorrelation and partial-autocorrelation. These gives insight on the 'moving average' and 'autocorrelation' component of the time series. Both acf plot and pacf plot are plotted with confidence interval to determine the significant lags to be focused on."
   ]
  },
  {
   "cell_type": "code",
   "execution_count": 39,
   "metadata": {
    "scrolled": true,
    "slideshow": {
     "slide_type": "fragment"
    }
   },
   "outputs": [
    {
     "data": {
      "image/png": "[encoded data removed]",
      "text/plain": [
       "<Figure size 432x288 with 1 Axes>"
      ]
     },
     "metadata": {},
     "output_type": "display_data"
    }
   ],
   "source": [
    "# Acf Plot\n",
    "plot_acf(residual, lags= 50)\n",
    "pyplot.show()"
   ]
  },
  {
   "cell_type": "code",
   "execution_count": 40,
   "metadata": {
    "scrolled": false,
    "slideshow": {
     "slide_type": "subslide"
    }
   },
   "outputs": [
    {
     "data": {
      "image/png": "[encoded data removed]",
      "text/plain": [
       "<Figure size 432x288 with 1 Axes>"
      ]
     },
     "metadata": {},
     "output_type": "display_data"
    }
   ],
   "source": [
    "# Pacf plot\n",
    "plot_pacf(residual, lags= 50)\n",
    "pyplot.show()"
   ]
  },
  {
   "cell_type": "markdown",
   "metadata": {
    "slideshow": {
     "slide_type": "slide"
    }
   },
   "source": [
    "## END"
   ]
  }
 ],
 "metadata": {
  "celltoolbar": "Slideshow",
  "kernelspec": {
   "display_name": "Python 3 (ipykernel)",
   "language": "python",
   "name": "python3"
  },
  "language_info": {
   "codemirror_mode": {
    "name": "ipython",
    "version": 3
   },
   "file_extension": ".py",
   "mimetype": "text/x-python",
   "name": "python",
   "nbconvert_exporter": "python",
   "pygments_lexer": "ipython3",
   "version": "3.7.9"
  }
 },
 "nbformat": 4,
 "nbformat_minor": 2
}
