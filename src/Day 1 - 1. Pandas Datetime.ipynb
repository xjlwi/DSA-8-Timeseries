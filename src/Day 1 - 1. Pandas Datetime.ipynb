{
 "metadata": {
  "language_info": {
   "codemirror_mode": {
    "name": "ipython",
    "version": 3
   },
   "file_extension": ".py",
   "mimetype": "text/x-python",
   "name": "python",
   "nbconvert_exporter": "python",
   "pygments_lexer": "ipython3",
   "version": "3.7.3-final"
  },
  "orig_nbformat": 2,
  "kernelspec": {
   "name": "python3",
   "display_name": "Python 3",
   "language": "python"
  }
 },
 "nbformat": 4,
 "nbformat_minor": 2,
 "cells": [
  {
   "source": [
    "## Python DateTime, TimeDelta, Strftime\n",
    "\n",
    "### 1. Import module <code> datetime </code>"
   ],
   "cell_type": "markdown",
   "metadata": {}
  },
  {
   "source": [
    "Today's Date"
   ],
   "cell_type": "markdown",
   "metadata": {}
  },
  {
   "cell_type": "code",
   "execution_count": 4,
   "metadata": {},
   "outputs": [
    {
     "output_type": "stream",
     "name": "stdout",
     "text": [
      "Today's date is 2021-02-16\n"
     ]
    }
   ],
   "source": [
    "from datetime import date\n",
    "\n",
    "# print today's date using today() method\n",
    "today = date.today() \n",
    "print (\"Today's date is \" + str(today))"
   ]
  },
  {
   "source": [
    "Today's Weekday Number in python\n",
    "\n",
    "* Day (Weekday Number)\n",
    "    * Monday (0)\n",
    "    * Tuesday (1)\n",
    "    * Wednesday (2)\n",
    "    * Thursday (3)\n",
    "    * Friday (4)\n",
    "    * Saturday (5)\n",
    "    * Sunday (6)"
   ],
   "cell_type": "markdown",
   "metadata": {}
  },
  {
   "cell_type": "code",
   "execution_count": 5,
   "metadata": {},
   "outputs": [
    {
     "output_type": "stream",
     "name": "stdout",
     "text": [
      "Today's Weekday : 1\n"
     ]
    }
   ],
   "source": [
    "print (\"Today's Weekday #:\", today.weekday())"
   ]
  },
  {
   "source": [
    "## Python's Current Date and Time objects\n",
    "\n",
    "### 2. <code> now() </code>"
   ],
   "cell_type": "markdown",
   "metadata": {}
  },
  {
   "source": [
    "Like Date Objects, we can also use \"DATETIME OBJECTS\" in Python. Python date and time objects give date along with time in hours, minutes, seconds and milliseconds."
   ],
   "cell_type": "markdown",
   "metadata": {}
  },
  {
   "cell_type": "code",
   "execution_count": 7,
   "metadata": {},
   "outputs": [
    {
     "output_type": "stream",
     "name": "stdout",
     "text": [
      "The current date and time now is :2021-02-16 13:27:38.010727\n"
     ]
    }
   ],
   "source": [
    "from datetime import datetime\n",
    "today = datetime.now()\n",
    "print (\"The current date and time now is :\" + str(today))"
   ]
  },
  {
   "source": [
    "With \"DATETIME OBJECT\", you can also call time class.\n",
    "\n",
    "Suppose we want to print just the current time without the date."
   ],
   "cell_type": "markdown",
   "metadata": {}
  },
  {
   "cell_type": "code",
   "execution_count": 9,
   "metadata": {},
   "outputs": [
    {
     "output_type": "stream",
     "name": "stdout",
     "text": [
      "The current time now is :13:28:21.288864\n"
     ]
    }
   ],
   "source": [
    "t = datetime.time(datetime.now())\n",
    "print (\"The current time now is :\" + str(t))"
   ]
  },
  {
   "source": [
    "We will apply our `weekday` indexer to our weekday's `arrayList` to know which day is today.\n",
    "\n",
    "*   Weekdays operator (wd) is assigned the number from (0-6) number depending on what the current weekday is. Here we declared the array of the list for days <i>(Mon, Tue, Wed…Sun)</i>.\n",
    "\n",
    "*   Use that index value to know which day it is. In our case, it is #2, and it represents Wednesday, so in the output it will print out <u>\"Which is a Wednesday.\"</u>"
   ],
   "cell_type": "markdown",
   "metadata": {}
  },
  {
   "cell_type": "code",
   "execution_count": 14,
   "metadata": {},
   "outputs": [
    {
     "output_type": "stream",
     "name": "stdout",
     "text": [
      "Today's day number is 1 which is a Tuesday\n"
     ]
    }
   ],
   "source": [
    "wd = date.weekday(today)\n",
    "days = [\"Monday\", \"Tuesday\", \"Wednesday\", \"Thursday\", \"Friday\", \"Saturday\", \"Sunday\"]\n",
    "print (\"Today's day number is %d which is a \" %wd + days[wd])"
   ]
  },
  {
   "source": [
    "# Formatting Date & Time Output with Strftime()\n",
    "\n",
    "### 1. Formatting year\n",
    "\n",
    "We used the \"strftime function\" for formatting.\n",
    "This function uses different control code to give an output.\n",
    "Each control code resembles different parameters like year,month, weekday and date \n",
    "* <code>(%y/%Y – Year) </code>\n",
    "* <code>(%a/%A- weekday)</code>\n",
    "* <code>(%b/%B- month)</code>\n",
    "* <code>(%d - day of month)</code>\n",
    "\n",
    "In our case, it is (\"%Y\") which resembles year, it prints out the full year with the century (e.g., 2018).\n"
   ],
   "cell_type": "markdown",
   "metadata": {}
  },
  {
   "cell_type": "code",
   "execution_count": 15,
   "metadata": {},
   "outputs": [
    {
     "output_type": "stream",
     "name": "stdout",
     "text": [
      "2021\n"
     ]
    }
   ],
   "source": [
    "now = datetime.now() # Get the current date and time now. \n",
    "######## Date formatting #######\n",
    "print (now.strftime(\"%Y\"))"
   ]
  },
  {
   "source": [
    "Now if you replace <code>(\"%Y\")</code> with lowercase, i.e., <code>( \"%y)</code> and execute the code the output will display only (18) and not (2018). The century of the year will not display as shown in the screenshot below"
   ],
   "cell_type": "markdown",
   "metadata": {}
  },
  {
   "cell_type": "code",
   "execution_count": 16,
   "metadata": {},
   "outputs": [
    {
     "output_type": "execute_result",
     "data": {
      "text/plain": [
       "'21'"
      ]
     },
     "metadata": {},
     "execution_count": 16
    }
   ],
   "source": [
    "now.strftime(\"%y\")"
   ]
  },
  {
   "source": [
    "`Strf` function can declare the <i>date, day, month and year</i> separately. Also with small changes in the control code in strftime function you can format the style of the text.\n",
    "\n",
    "* <code> %a = day </code>\n",
    "* <code> %d = date </code>\n",
    "* <code> %B = Month in full </code>\n",
    "* <code> %y = year in short </code>"
   ],
   "cell_type": "markdown",
   "metadata": {}
  },
  {
   "cell_type": "code",
   "execution_count": 17,
   "metadata": {},
   "outputs": [
    {
     "output_type": "stream",
     "name": "stdout",
     "text": [
      "Tue, 16, February, 21\n"
     ]
    }
   ],
   "source": [
    "# Set the current date and time\n",
    "now = datetime.now()\n",
    "print (now.strftime(\"%a, %d, %B, %y\")) "
   ]
  },
  {
   "source": [
    "With the help of \"Strftime\" function we can also retrieve local system time, date or both.\n",
    "\n",
    "* <code> %c- indicates the local date and time </code>\n",
    "* <code> %x- indicates the local date </code>\n",
    "* <code> %X- indicates the local time</code> "
   ],
   "cell_type": "markdown",
   "metadata": {}
  },
  {
   "cell_type": "code",
   "execution_count": 21,
   "metadata": {},
   "outputs": [
    {
     "output_type": "stream",
     "name": "stdout",
     "text": [
      "Tue Feb 16 13:44:59 2021\n02/16/21\n13:44:59\n"
     ]
    }
   ],
   "source": [
    "# Get current date time\n",
    "now = datetime.now()\n",
    "print (now.strftime(\"%c\")) # local date and time\n",
    "\n",
    "print (now.strftime(\"%x\")) # local date\n",
    "\n",
    "print (now.strftime(\"%X\")) # local time\n"
   ]
  },
  {
   "source": [
    "The \"strftime function\" allows you to call the time in any format 24 hours or 12 hours.\n",
    "\n",
    "* 12 hours time is declared <code> print now.strftime(\"%I:%M:%S %P) </code>\n",
    "\n",
    "* 24 hours time is declared <code> print now.strftime(\"%H:%M\") </code>"
   ],
   "cell_type": "markdown",
   "metadata": {}
  },
  {
   "cell_type": "code",
   "execution_count": 22,
   "metadata": {},
   "outputs": [
    {
     "output_type": "stream",
     "name": "stdout",
     "text": [
      "01:44:59 PM\n13:44\n"
     ]
    }
   ],
   "source": [
    "#### Time formatting ####\n",
    "#%I/%H - 12/24 Hour, %M - minute, %S - second, %p - local's AM/PM\n",
    "print(now.strftime(\"%I:%M:%S %p\")) # 12-Hour:Minute:Second:AM\n",
    "print(now.strftime(\"%H:%M\")) # 24-Hour:Minute"
   ]
  },
  {
   "source": [
    "# Formatting date and time using strptime\n",
    "\n",
    "### 1. Convert Strings to DateTime objects\n",
    "Python `strptime()` - string to datetime.\n",
    "\n",
    "The `strptime()` method creates a datetime object from a given string (representing date and time)."
   ],
   "cell_type": "markdown",
   "metadata": {}
  },
  {
   "source": [
    "The `strptime()` method takes two arguments:\n",
    "\n",
    "* a string representing date and time\n",
    "* format code equivalent to the first argument"
   ],
   "cell_type": "markdown",
   "metadata": {}
  },
  {
   "cell_type": "code",
   "execution_count": 27,
   "metadata": {},
   "outputs": [
    {
     "output_type": "stream",
     "name": "stdout",
     "text": [
      "date_string = 21 June, 2018\ndate_object = 2018-06-21 00:00:00\n"
     ]
    }
   ],
   "source": [
    "from datetime import datetime\n",
    "\n",
    "date_string = \"21 June, 2018\"\n",
    "print(\"date_string =\", date_string)\n",
    "\n",
    "date_object = datetime.strptime(date_string, \"%d %B, %Y\")\n",
    "print(\"date_object =\", date_object)"
   ]
  },
  {
   "source": [
    "# Timedelta in Python\n",
    "\n",
    "### 1. Timedelta Objects"
   ],
   "cell_type": "markdown",
   "metadata": {}
  },
  {
   "cell_type": "code",
   "execution_count": 23,
   "metadata": {},
   "outputs": [],
   "source": [
    "from datetime import timedelta"
   ]
  },
  {
   "cell_type": "code",
   "execution_count": 24,
   "metadata": {},
   "outputs": [
    {
     "output_type": "stream",
     "name": "stdout",
     "text": [
      "365 days, 8:15:00\n"
     ]
    }
   ],
   "source": [
    "# construct a basic timedelta and print it\n",
    "print (timedelta(days = 365, hours = 8, minutes = 15))"
   ]
  },
  {
   "cell_type": "code",
   "execution_count": 25,
   "metadata": {},
   "outputs": [
    {
     "output_type": "stream",
     "name": "stdout",
     "text": [
      "Today is :2021-02-16 13:49:26.920808\n"
     ]
    }
   ],
   "source": [
    "# Let's get today's date and time to check whether our import statement is working well.\n",
    "print (\"Today is :\" + str(datetime.now()))"
   ]
  },
  {
   "cell_type": "code",
   "execution_count": 26,
   "metadata": {},
   "outputs": [
    {
     "output_type": "stream",
     "name": "stdout",
     "text": [
      "One year from now is :2022-02-16 13:50:35.136412\n"
     ]
    }
   ],
   "source": [
    "# Get a date one year from now\n",
    "one_year = datetime.now() + timedelta(days = 365)\n",
    "\n",
    "print (\"One year from now is :\" + str(one_year))"
   ]
  },
  {
   "cell_type": "code",
   "execution_count": null,
   "metadata": {},
   "outputs": [],
   "source": [
    "# Calculate future date. Add 1 week 4 days from today and print the date.\n"
   ]
  },
  {
   "source": [
    "Let's look into a more complex example. I would like to determine how many days past the New Year. \n",
    "* Using `today= date.today()` we will get today's date\n",
    "* We know the new year is always on <i>1-Jan</i>, but the year could be different. \n",
    "Using <code> nyd= date(today.year,1,1) </code> we store the new year in variable `nyd` \n",
    "* if `nyd < today`: compares whether the current date is greater than the new year. If yes, it enters the while loop\n",
    "* `((today-nyd).days)` gives the difference between a current date and new year in DAYS"
   ],
   "cell_type": "markdown",
   "metadata": {}
  },
  {
   "cell_type": "code",
   "execution_count": null,
   "metadata": {},
   "outputs": [],
   "source": [
    "# complete the following. \n",
    "today = date.today()\n"
   ]
  }
 ]
}