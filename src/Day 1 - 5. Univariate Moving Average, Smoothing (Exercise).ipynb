{
 "cells": [
  {
   "cell_type": "code",
   "execution_count": 23,
   "metadata": {},
   "outputs": [
    {
     "data": {
      "text/html": [
       "<style>\n",
       "h1 {\n",
       "  # border: 1.5px solid #333;\n",
       "  padding: 15px 15px;\n",
       "  # background-image: linear-gradient(180deg, #fff, rgb(160, 147, 147));\n",
       "  background-color: #00A19C;\n",
       "  color: #FFFFFF;\n",
       "  position: static;\n",
       "}\n",
       "\n",
       "h2 {\n",
       "\tpadding: 15px 15px;\n",
       "\tcolor: #00746E;\n",
       "\tposition: static;\n",
       "}\n",
       "\n",
       "h3 {\n",
       "\tpadding: 15px 15px;\n",
       "\tcolor: #9F79B7;\n",
       "\tposition: static;\n",
       "}\n",
       "\n",
       "div.warn {    \n",
       "    background-color: #fcf2f2;\n",
       "    border-color: #dFb5b4;\n",
       "    border-left: 5px solid #dfb5b4;\n",
       "    padding: 0.5em;\n",
       "    }\n",
       "\t\n",
       ".rise-enabled .reveal .slides h1\n",
       " {\n",
       "    color: white;\n",
       "\tpadding-top: 15px;\n",
       "\tpadding-bottom: 15px;\n",
       " }\n",
       " .rise-enabled .reveal .slides h2\n",
       " {\n",
       "    color: #00746E;\n",
       " }\n",
       " .rise-enabled .reveal .slides h3\n",
       " {\n",
       "    color: #9F79B7;\n",
       " }\n",
       " .rise-enabled .reveal .slides p.output_subarea>pre\n",
       " {\n",
       "    color: black;\n",
       " }\n",
       " \n",
       "</style>"
      ],
      "text/plain": [
       "<IPython.core.display.HTML object>"
      ]
     },
     "execution_count": 23,
     "metadata": {},
     "output_type": "execute_result"
    }
   ],
   "source": [
    "# Styling notebook\n",
    "from IPython.core.display import HTML\n",
    "def css_styling():\n",
    "    styles = open(\"rise.css\", \"r\").read()\n",
    "    return HTML(styles)\n",
    "css_styling()"
   ]
  },
  {
   "cell_type": "code",
   "execution_count": 24,
   "metadata": {
    "_cell_guid": "b1076dfc-b9ad-4769-8c92-a6c4dae69d19",
    "_uuid": "8f2839f25d086af736a60e9eeb907d3b93b6e0e5",
    "execution": {
     "iopub.execute_input": "2020-12-01T14:51:15.812388Z",
     "iopub.status.busy": "2020-12-01T14:51:15.811350Z",
     "iopub.status.idle": "2020-12-01T14:51:15.819035Z",
     "shell.execute_reply": "2020-12-01T14:51:15.818370Z"
    },
    "papermill": {
     "duration": 0.087984,
     "end_time": "2020-12-01T14:51:15.819178",
     "exception": false,
     "start_time": "2020-12-01T14:51:15.731194",
     "status": "completed"
    },
    "scrolled": true,
    "tags": []
   },
   "outputs": [
    {
     "name": "stdout",
     "output_type": "stream",
     "text": [
      "../input\\1_gFC2bTg3uihp1klknWU0qg.gif\n",
      "../input\\airline_passengers.csv\n",
      "../input\\graph.png\n",
      "../input\\holt winter.png\n",
      "../input\\Holt-winter additive.png\n",
      "../input\\Holt-winter single exponential smoothing.png\n",
      "../input\\macrodata.csv\n",
      "../input\\sample_data.csv\n",
      "../input\\Space_Corrected.csv\n",
      "../input\\timeseries_data2.xlsx\n",
      "../input\\Weather Station Locations.csv\n",
      "../input\\.ipynb_checkpoints\\time-series-prediction-tutorial-with-eda-checkpoint.ipynb\n",
      "../input\\AirQualityUCI\\AirQualityUCI.csv\n",
      "../input\\AirQualityUCI\\AirQualityUCI.xlsx\n",
      "../input\\demand_store_forecast\\train.csv\n",
      "../input\\operations\\operations.csv\n",
      "../input\\Summary of Weather\\Summary of Weather.csv\n"
     ]
    }
   ],
   "source": [
    "import numpy as np # linear algebra\n",
    "import pandas as pd # data processing, CSV file I/O (e.g. pd.read_csv)\n",
    "\n",
    "import os\n",
    "for dirname, _, filenames in os.walk('../input'):\n",
    "    for filename in filenames:\n",
    "        print(os.path.join(dirname, filename))\n"
   ]
  },
  {
   "cell_type": "markdown",
   "metadata": {
    "_cell_guid": "79c7e3d0-c299-4dcb-8224-4455121ee9b0",
    "_uuid": "d629ff2d2480ee46fbb7e2d37f6b5fab8052498a",
    "collapsed": true,
    "papermill": {
     "duration": 0.070044,
     "end_time": "2020-12-01T14:51:16.110850",
     "exception": false,
     "start_time": "2020-12-01T14:51:16.040806",
     "status": "completed"
    },
    "slideshow": {
     "slide_type": "slide"
    },
    "tags": []
   },
   "source": [
    "# Introduction"
   ]
  },
  {
   "cell_type": "markdown",
   "metadata": {
    "papermill": {
     "duration": 0.070116,
     "end_time": "2020-12-01T14:51:16.252297",
     "exception": false,
     "start_time": "2020-12-01T14:51:16.182181",
     "status": "completed"
    },
    "slideshow": {
     "slide_type": "subslide"
    },
    "tags": []
   },
   "source": [
    "In this kernel, the essentials of the time series analysis is demonstrated. The datasets used is the US macroeconmic data and Sales passengers data.  \n",
    "\n",
    "- Error, Trend and Seasonality Decomposition using Statsmodels Seasonal Decomposition (refresher)\n",
    "- Exponential Smoothing using Pandas EWMA and Holt Winters method for Single, Double and Triple Exponential           Smoothing\n",
    "- Forecast into the real future using Holt Winters triple exponential method\n",
    "\n",
    "Credit Source: <a href =\"https://www.kaggle.com/prakharprasad/smoothing-holt-winters-forecast/data?select=macrodata.csv\">Link </a>"
   ]
  },
  {
   "cell_type": "markdown",
   "metadata": {
    "papermill": {
     "duration": 0.069192,
     "end_time": "2020-12-01T14:51:16.391114",
     "exception": false,
     "start_time": "2020-12-01T14:51:16.321922",
     "status": "completed"
    },
    "slideshow": {
     "slide_type": "subslide"
    },
    "tags": []
   },
   "source": [
    "## Part I - Time Series Decomposition"
   ]
  },
  {
   "cell_type": "markdown",
   "metadata": {
    "papermill": {
     "duration": 0.069318,
     "end_time": "2020-12-01T14:51:16.532063",
     "exception": false,
     "start_time": "2020-12-01T14:51:16.462745",
     "status": "completed"
    },
    "tags": []
   },
   "source": [
    "### Import Libraries\n",
    "Note the statsmodels specific libraries used in this kernel. \n",
    "  "
   ]
  },
  {
   "cell_type": "code",
   "execution_count": 25,
   "metadata": {
    "execution": {
     "iopub.execute_input": "2020-12-01T14:51:16.683725Z",
     "iopub.status.busy": "2020-12-01T14:51:16.682891Z",
     "iopub.status.idle": "2020-12-01T14:51:18.068227Z",
     "shell.execute_reply": "2020-12-01T14:51:18.067601Z"
    },
    "papermill": {
     "duration": 1.466589,
     "end_time": "2020-12-01T14:51:18.068378",
     "exception": false,
     "start_time": "2020-12-01T14:51:16.601789",
     "status": "completed"
    },
    "slideshow": {
     "slide_type": "subslide"
    },
    "tags": []
   },
   "outputs": [],
   "source": [
    "# arrays and dataframes\n",
    "import pandas as pd\n",
    "import numpy as np\n",
    "\n",
    "# visualization imports\n",
    "import matplotlib.pyplot as plt\n",
    "import seaborn as sns\n",
    "%matplotlib inline\n",
    "\n",
    "# time series - statsmodels\n",
    "from statsmodels.tsa.filters.hp_filter import hpfilter  # Hodrick Prescott filter for cyclic & trend separation\n",
    "from statsmodels.tsa.seasonal import seasonal_decompose # Error Trend Seasonality decomposition\n",
    "\n",
    "# holt winters \n",
    "from statsmodels.tsa.holtwinters import SimpleExpSmoothing   # single exponential smoothing as in ewm of pandas\n",
    "from statsmodels.tsa.holtwinters import ExponentialSmoothing # double and triple exponential smoothing\n",
    "\n",
    "# consistent plot size wherever not specifiied\n",
    "from pylab import rcParams\n",
    "rcParams['figure.figsize'] = (15,8)"
   ]
  },
  {
   "cell_type": "code",
   "execution_count": 26,
   "metadata": {
    "execution": {
     "iopub.execute_input": "2020-12-01T14:51:18.368206Z",
     "iopub.status.busy": "2020-12-01T14:51:18.367368Z",
     "iopub.status.idle": "2020-12-01T14:51:18.405578Z",
     "shell.execute_reply": "2020-12-01T14:51:18.404928Z"
    },
    "papermill": {
     "duration": 0.116103,
     "end_time": "2020-12-01T14:51:18.405720",
     "exception": false,
     "start_time": "2020-12-01T14:51:18.289617",
     "status": "completed"
    },
    "slideshow": {
     "slide_type": "subslide"
    },
    "tags": []
   },
   "outputs": [
    {
     "data": {
      "text/html": [
       "<div>\n",
       "<style scoped>\n",
       "    .dataframe tbody tr th:only-of-type {\n",
       "        vertical-align: middle;\n",
       "    }\n",
       "\n",
       "    .dataframe tbody tr th {\n",
       "        vertical-align: top;\n",
       "    }\n",
       "\n",
       "    .dataframe thead th {\n",
       "        text-align: right;\n",
       "    }\n",
       "</style>\n",
       "<table border=\"1\" class=\"dataframe\">\n",
       "  <thead>\n",
       "    <tr style=\"text-align: right;\">\n",
       "      <th></th>\n",
       "      <th>year</th>\n",
       "      <th>quarter</th>\n",
       "      <th>realgdp</th>\n",
       "      <th>realcons</th>\n",
       "      <th>realinv</th>\n",
       "      <th>realgovt</th>\n",
       "      <th>realdpi</th>\n",
       "      <th>cpi</th>\n",
       "      <th>m1</th>\n",
       "      <th>tbilrate</th>\n",
       "      <th>unemp</th>\n",
       "      <th>pop</th>\n",
       "      <th>infl</th>\n",
       "      <th>realint</th>\n",
       "    </tr>\n",
       "  </thead>\n",
       "  <tbody>\n",
       "    <tr>\n",
       "      <th>1959-03-31</th>\n",
       "      <td>1959</td>\n",
       "      <td>1</td>\n",
       "      <td>2710.349</td>\n",
       "      <td>1707.4</td>\n",
       "      <td>286.898</td>\n",
       "      <td>470.045</td>\n",
       "      <td>1886.9</td>\n",
       "      <td>28.98</td>\n",
       "      <td>139.7</td>\n",
       "      <td>2.82</td>\n",
       "      <td>5.8</td>\n",
       "      <td>177.146</td>\n",
       "      <td>0.00</td>\n",
       "      <td>0.00</td>\n",
       "    </tr>\n",
       "    <tr>\n",
       "      <th>1959-06-30</th>\n",
       "      <td>1959</td>\n",
       "      <td>2</td>\n",
       "      <td>2778.801</td>\n",
       "      <td>1733.7</td>\n",
       "      <td>310.859</td>\n",
       "      <td>481.301</td>\n",
       "      <td>1919.7</td>\n",
       "      <td>29.15</td>\n",
       "      <td>141.7</td>\n",
       "      <td>3.08</td>\n",
       "      <td>5.1</td>\n",
       "      <td>177.830</td>\n",
       "      <td>2.34</td>\n",
       "      <td>0.74</td>\n",
       "    </tr>\n",
       "    <tr>\n",
       "      <th>1959-09-30</th>\n",
       "      <td>1959</td>\n",
       "      <td>3</td>\n",
       "      <td>2775.488</td>\n",
       "      <td>1751.8</td>\n",
       "      <td>289.226</td>\n",
       "      <td>491.260</td>\n",
       "      <td>1916.4</td>\n",
       "      <td>29.35</td>\n",
       "      <td>140.5</td>\n",
       "      <td>3.82</td>\n",
       "      <td>5.3</td>\n",
       "      <td>178.657</td>\n",
       "      <td>2.74</td>\n",
       "      <td>1.09</td>\n",
       "    </tr>\n",
       "    <tr>\n",
       "      <th>1959-12-31</th>\n",
       "      <td>1959</td>\n",
       "      <td>4</td>\n",
       "      <td>2785.204</td>\n",
       "      <td>1753.7</td>\n",
       "      <td>299.356</td>\n",
       "      <td>484.052</td>\n",
       "      <td>1931.3</td>\n",
       "      <td>29.37</td>\n",
       "      <td>140.0</td>\n",
       "      <td>4.33</td>\n",
       "      <td>5.6</td>\n",
       "      <td>179.386</td>\n",
       "      <td>0.27</td>\n",
       "      <td>4.06</td>\n",
       "    </tr>\n",
       "    <tr>\n",
       "      <th>1960-03-31</th>\n",
       "      <td>1960</td>\n",
       "      <td>1</td>\n",
       "      <td>2847.699</td>\n",
       "      <td>1770.5</td>\n",
       "      <td>331.722</td>\n",
       "      <td>462.199</td>\n",
       "      <td>1955.5</td>\n",
       "      <td>29.54</td>\n",
       "      <td>139.6</td>\n",
       "      <td>3.50</td>\n",
       "      <td>5.2</td>\n",
       "      <td>180.007</td>\n",
       "      <td>2.31</td>\n",
       "      <td>1.19</td>\n",
       "    </tr>\n",
       "  </tbody>\n",
       "</table>\n",
       "</div>"
      ],
      "text/plain": [
       "            year  quarter   realgdp  realcons  realinv  realgovt  realdpi  \\\n",
       "1959-03-31  1959        1  2710.349    1707.4  286.898   470.045   1886.9   \n",
       "1959-06-30  1959        2  2778.801    1733.7  310.859   481.301   1919.7   \n",
       "1959-09-30  1959        3  2775.488    1751.8  289.226   491.260   1916.4   \n",
       "1959-12-31  1959        4  2785.204    1753.7  299.356   484.052   1931.3   \n",
       "1960-03-31  1960        1  2847.699    1770.5  331.722   462.199   1955.5   \n",
       "\n",
       "              cpi     m1  tbilrate  unemp      pop  infl  realint  \n",
       "1959-03-31  28.98  139.7      2.82    5.8  177.146  0.00     0.00  \n",
       "1959-06-30  29.15  141.7      3.08    5.1  177.830  2.34     0.74  \n",
       "1959-09-30  29.35  140.5      3.82    5.3  178.657  2.74     1.09  \n",
       "1959-12-31  29.37  140.0      4.33    5.6  179.386  0.27     4.06  \n",
       "1960-03-31  29.54  139.6      3.50    5.2  180.007  2.31     1.19  "
      ]
     },
     "execution_count": 26,
     "metadata": {},
     "output_type": "execute_result"
    }
   ],
   "source": [
    "# Load the US Macro economic data\n",
    "usmacro = pd.read_csv('../input/macrodata.csv',index_col=0,parse_dates=True)\n",
    "usmacro.head()"
   ]
  },
  {
   "cell_type": "markdown",
   "metadata": {
    "papermill": {
     "duration": 0.070791,
     "end_time": "2020-12-01T14:51:18.722257",
     "exception": false,
     "start_time": "2020-12-01T14:51:18.651466",
     "status": "completed"
    },
    "slideshow": {
     "slide_type": "fragment"
    },
    "tags": []
   },
   "source": [
    "Any of the columns can be explored and used for time series analysis. But first we will visualize one of the columns - realgdp"
   ]
  },
  {
   "cell_type": "code",
   "execution_count": 27,
   "metadata": {
    "execution": {
     "iopub.execute_input": "2020-12-01T14:51:18.870539Z",
     "iopub.status.busy": "2020-12-01T14:51:18.869740Z",
     "iopub.status.idle": "2020-12-01T14:51:19.133629Z",
     "shell.execute_reply": "2020-12-01T14:51:19.132888Z"
    },
    "papermill": {
     "duration": 0.340543,
     "end_time": "2020-12-01T14:51:19.133767",
     "exception": false,
     "start_time": "2020-12-01T14:51:18.793224",
     "status": "completed"
    },
    "scrolled": true,
    "slideshow": {
     "slide_type": "subslide"
    },
    "tags": []
   },
   "outputs": [
    {
     "data": {
      "image/png": "[encoded data removed]",
      "text/plain": [
       "<Figure size 864x360 with 1 Axes>"
      ]
     },
     "metadata": {
      "needs_background": "light"
     },
     "output_type": "display_data"
    }
   ],
   "source": [
    "# visualize the realgdp --- > will use the capabilities of pandas plotting capability\n",
    "usmacro['realgdp'].plot(figsize=(12,5),title='US Macro Econmic Data').autoscale(axis='x',tight=True)"
   ]
  },
  {
   "cell_type": "markdown",
   "metadata": {
    "papermill": {
     "duration": 0.079131,
     "end_time": "2020-12-01T14:51:21.661210",
     "exception": false,
     "start_time": "2020-12-01T14:51:21.582079",
     "status": "completed"
    },
    "slideshow": {
     "slide_type": "slide"
    },
    "tags": []
   },
   "source": [
    "## ETS - Error, Trend and Seasonality Decomposition"
   ]
  },
  {
   "cell_type": "markdown",
   "metadata": {
    "papermill": {
     "duration": 0.08012,
     "end_time": "2020-12-01T14:51:21.821580",
     "exception": false,
     "start_time": "2020-12-01T14:51:21.741460",
     "status": "completed"
    },
    "slideshow": {
     "slide_type": "fragment"
    },
    "tags": []
   },
   "source": [
    "The decomposition of a time series attempts to isolate individual components such as error, trend and seasonality. `Statsmodels` provided *seasonal decomposition* tool to separate out the different components. <p> To demonstrate the seasonal decomposition capability of statsmodels, I will make use of the airline passenger data. More info refer here:\n",
    "<a> https://www.statsmodels.org/stable/api.html#filters-and-decompositions </a>"
   ]
  },
  {
   "cell_type": "markdown",
   "metadata": {
    "slideshow": {
     "slide_type": "subslide"
    }
   },
   "source": [
    "Remember - Additive model is used when the trend component is more constant over time. Example, every year 20,000 passengers are added. Multiplicative model is used when the trend increases/decreases at a non linear rate. example, every year the number of airline passengers doubles by 20,000."
   ]
  },
  {
   "cell_type": "code",
   "execution_count": 28,
   "metadata": {
    "execution": {
     "iopub.execute_input": "2020-12-01T14:51:22.164217Z",
     "iopub.status.busy": "2020-12-01T14:51:22.162852Z",
     "iopub.status.idle": "2020-12-01T14:51:22.166925Z",
     "shell.execute_reply": "2020-12-01T14:51:22.166084Z"
    },
    "papermill": {
     "duration": 0.097679,
     "end_time": "2020-12-01T14:51:22.167143",
     "exception": false,
     "start_time": "2020-12-01T14:51:22.069464",
     "status": "completed"
    },
    "slideshow": {
     "slide_type": "fragment"
    },
    "tags": []
   },
   "outputs": [],
   "source": [
    "airline = pd.read_csv('../input/airline_passengers.csv', index_col='Month', parse_dates=True)"
   ]
  },
  {
   "cell_type": "code",
   "execution_count": 29,
   "metadata": {
    "execution": {
     "iopub.execute_input": "2020-12-01T14:51:22.341042Z",
     "iopub.status.busy": "2020-12-01T14:51:22.339923Z",
     "iopub.status.idle": "2020-12-01T14:51:22.345659Z",
     "shell.execute_reply": "2020-12-01T14:51:22.344876Z"
    },
    "papermill": {
     "duration": 0.096718,
     "end_time": "2020-12-01T14:51:22.345799",
     "exception": false,
     "start_time": "2020-12-01T14:51:22.249081",
     "status": "completed"
    },
    "slideshow": {
     "slide_type": "skip"
    },
    "tags": []
   },
   "outputs": [
    {
     "data": {
      "text/html": [
       "<div>\n",
       "<style scoped>\n",
       "    .dataframe tbody tr th:only-of-type {\n",
       "        vertical-align: middle;\n",
       "    }\n",
       "\n",
       "    .dataframe tbody tr th {\n",
       "        vertical-align: top;\n",
       "    }\n",
       "\n",
       "    .dataframe thead th {\n",
       "        text-align: right;\n",
       "    }\n",
       "</style>\n",
       "<table border=\"1\" class=\"dataframe\">\n",
       "  <thead>\n",
       "    <tr style=\"text-align: right;\">\n",
       "      <th></th>\n",
       "      <th>Thousands of Passengers</th>\n",
       "    </tr>\n",
       "    <tr>\n",
       "      <th>Month</th>\n",
       "      <th></th>\n",
       "    </tr>\n",
       "  </thead>\n",
       "  <tbody>\n",
       "    <tr>\n",
       "      <th>1949-01-01</th>\n",
       "      <td>112</td>\n",
       "    </tr>\n",
       "    <tr>\n",
       "      <th>1949-02-01</th>\n",
       "      <td>118</td>\n",
       "    </tr>\n",
       "    <tr>\n",
       "      <th>1949-03-01</th>\n",
       "      <td>132</td>\n",
       "    </tr>\n",
       "    <tr>\n",
       "      <th>1949-04-01</th>\n",
       "      <td>129</td>\n",
       "    </tr>\n",
       "    <tr>\n",
       "      <th>1949-05-01</th>\n",
       "      <td>121</td>\n",
       "    </tr>\n",
       "  </tbody>\n",
       "</table>\n",
       "</div>"
      ],
      "text/plain": [
       "            Thousands of Passengers\n",
       "Month                              \n",
       "1949-01-01                      112\n",
       "1949-02-01                      118\n",
       "1949-03-01                      132\n",
       "1949-04-01                      129\n",
       "1949-05-01                      121"
      ]
     },
     "execution_count": 29,
     "metadata": {},
     "output_type": "execute_result"
    }
   ],
   "source": [
    "airline.head()"
   ]
  },
  {
   "cell_type": "code",
   "execution_count": 30,
   "metadata": {
    "execution": {
     "iopub.execute_input": "2020-12-01T14:51:22.524755Z",
     "iopub.status.busy": "2020-12-01T14:51:22.523944Z",
     "iopub.status.idle": "2020-12-01T14:51:22.532411Z",
     "shell.execute_reply": "2020-12-01T14:51:22.533128Z"
    },
    "papermill": {
     "duration": 0.103408,
     "end_time": "2020-12-01T14:51:22.533338",
     "exception": false,
     "start_time": "2020-12-01T14:51:22.429930",
     "status": "completed"
    },
    "slideshow": {
     "slide_type": "fragment"
    },
    "tags": []
   },
   "outputs": [],
   "source": [
    "# decompose the time series\n",
    "decompose_result = seasonal_decompose(airline['Thousands of Passengers'],model='multiplicative')"
   ]
  },
  {
   "cell_type": "code",
   "execution_count": 31,
   "metadata": {
    "execution": {
     "iopub.execute_input": "2020-12-01T14:51:22.707984Z",
     "iopub.status.busy": "2020-12-01T14:51:22.707052Z",
     "iopub.status.idle": "2020-12-01T14:51:23.708431Z",
     "shell.execute_reply": "2020-12-01T14:51:23.707543Z"
    },
    "papermill": {
     "duration": 1.092623,
     "end_time": "2020-12-01T14:51:23.708575",
     "exception": false,
     "start_time": "2020-12-01T14:51:22.615952",
     "status": "completed"
    },
    "slideshow": {
     "slide_type": "subslide"
    },
    "tags": []
   },
   "outputs": [
    {
     "data": {
      "image/png": "[encoded data removed]",
      "text/plain": [
       "<Figure size 1080x576 with 4 Axes>"
      ]
     },
     "metadata": {
      "needs_background": "light"
     },
     "output_type": "display_data"
    }
   ],
   "source": [
    "fig = decompose_result.plot()\n",
    "plt.show()"
   ]
  },
  {
   "cell_type": "markdown",
   "metadata": {
    "papermill": {
     "duration": 0.083354,
     "end_time": "2020-12-01T14:51:23.875807",
     "exception": false,
     "start_time": "2020-12-01T14:51:23.792453",
     "status": "completed"
    },
    "slideshow": {
     "slide_type": "fragment"
    },
    "tags": []
   },
   "source": [
    "Tip: Sometimes, the plot gets plotted twice. To get rid of this, just use a semi-colon at the end of the plot. "
   ]
  },
  {
   "cell_type": "code",
   "execution_count": null,
   "metadata": {},
   "outputs": [],
   "source": [
    "# decompose the time series for us gdp\n",
    "gdp_decompose = "
   ]
  },
  {
   "cell_type": "code",
   "execution_count": null,
   "metadata": {},
   "outputs": [],
   "source": [
    "# plot the decomposed gdp\n"
   ]
  },
  {
   "cell_type": "markdown",
   "metadata": {
    "papermill": {
     "duration": 0.083525,
     "end_time": "2020-12-01T14:51:24.824946",
     "exception": false,
     "start_time": "2020-12-01T14:51:24.741421",
     "status": "completed"
    },
    "slideshow": {
     "slide_type": "fragment"
    },
    "tags": []
   },
   "source": [
    "So here we see the original graph, the trend, seasonal and the residual or the error."
   ]
  },
  {
   "cell_type": "markdown",
   "metadata": {
    "papermill": {
     "duration": 0.086117,
     "end_time": "2020-12-01T14:51:24.995893",
     "exception": false,
     "start_time": "2020-12-01T14:51:24.909776",
     "status": "completed"
    },
    "slideshow": {
     "slide_type": "slide"
    },
    "tags": []
   },
   "source": [
    "# Part II - Fit various models to existing data\n",
    "\n",
    "\n",
    "<br>\n",
    "\n",
    "<div style=\"font-size:4em; text-align:center; margin-bottom:30px; color:#00746E\"><b>UNIVARIATE</b></div>"
   ]
  },
  {
   "cell_type": "code",
   "execution_count": 15,
   "metadata": {
    "slideshow": {
     "slide_type": "fragment"
    }
   },
   "outputs": [
    {
     "data": {
      "text/html": [
       "<div>\n",
       "<style scoped>\n",
       "    .dataframe tbody tr th:only-of-type {\n",
       "        vertical-align: middle;\n",
       "    }\n",
       "\n",
       "    .dataframe tbody tr th {\n",
       "        vertical-align: top;\n",
       "    }\n",
       "\n",
       "    .dataframe thead th {\n",
       "        text-align: right;\n",
       "    }\n",
       "</style>\n",
       "<table border=\"1\" class=\"dataframe\">\n",
       "  <thead>\n",
       "    <tr style=\"text-align: right;\">\n",
       "      <th></th>\n",
       "      <th>store</th>\n",
       "      <th>item</th>\n",
       "      <th>sales</th>\n",
       "    </tr>\n",
       "    <tr>\n",
       "      <th>date</th>\n",
       "      <th></th>\n",
       "      <th></th>\n",
       "      <th></th>\n",
       "    </tr>\n",
       "  </thead>\n",
       "  <tbody>\n",
       "    <tr>\n",
       "      <th>2013-01-01</th>\n",
       "      <td>1</td>\n",
       "      <td>1</td>\n",
       "      <td>13</td>\n",
       "    </tr>\n",
       "    <tr>\n",
       "      <th>2013-01-02</th>\n",
       "      <td>1</td>\n",
       "      <td>1</td>\n",
       "      <td>11</td>\n",
       "    </tr>\n",
       "    <tr>\n",
       "      <th>2013-01-03</th>\n",
       "      <td>1</td>\n",
       "      <td>1</td>\n",
       "      <td>14</td>\n",
       "    </tr>\n",
       "    <tr>\n",
       "      <th>2013-01-04</th>\n",
       "      <td>1</td>\n",
       "      <td>1</td>\n",
       "      <td>13</td>\n",
       "    </tr>\n",
       "    <tr>\n",
       "      <th>2013-01-05</th>\n",
       "      <td>1</td>\n",
       "      <td>1</td>\n",
       "      <td>10</td>\n",
       "    </tr>\n",
       "  </tbody>\n",
       "</table>\n",
       "</div>"
      ],
      "text/plain": [
       "            store  item  sales\n",
       "date                          \n",
       "2013-01-01      1     1     13\n",
       "2013-01-02      1     1     11\n",
       "2013-01-03      1     1     14\n",
       "2013-01-04      1     1     13\n",
       "2013-01-05      1     1     10"
      ]
     },
     "execution_count": 15,
     "metadata": {},
     "output_type": "execute_result"
    }
   ],
   "source": [
    "# Let's use the Store dataset which contains the sales of items in multiple stores. \n",
    "store = pd.read_csv(\"../input/demand_store_forecast/train.csv\", parse_dates = True, index_col = 'date')\n",
    "store.head() "
   ]
  },
  {
   "cell_type": "code",
   "execution_count": null,
   "metadata": {
    "slideshow": {
     "slide_type": "subslide"
    }
   },
   "outputs": [],
   "source": [
    "data = store.copy()\n",
    "data.index #DateTime index"
   ]
  },
  {
   "cell_type": "code",
   "execution_count": null,
   "metadata": {
    "collapsed": true
   },
   "outputs": [],
   "source": [
    "data.item.value_counts() #Number of sales per item"
   ]
  },
  {
   "cell_type": "code",
   "execution_count": null,
   "metadata": {
    "slideshow": {
     "slide_type": "fragment"
    }
   },
   "outputs": [],
   "source": [
    "# Filter Store 2, Item # 50\n",
    "data = data[(data['store'] == 2) & (data['item'] == 50)]"
   ]
  },
  {
   "cell_type": "code",
   "execution_count": null,
   "metadata": {
    "slideshow": {
     "slide_type": "fragment"
    }
   },
   "outputs": [],
   "source": [
    "data.index # Let's look at the range of Date index."
   ]
  },
  {
   "cell_type": "code",
   "execution_count": null,
   "metadata": {},
   "outputs": [],
   "source": [
    "data.head()"
   ]
  },
  {
   "cell_type": "code",
   "execution_count": null,
   "metadata": {},
   "outputs": [],
   "source": [
    "data.plot(figsize = (15,8), title = 'Sales')"
   ]
  },
  {
   "cell_type": "code",
   "execution_count": null,
   "metadata": {
    "slideshow": {
     "slide_type": "subslide"
    }
   },
   "outputs": [],
   "source": [
    "# Creating train and test set \n",
    "# Train set : 2013 Jan - 2017 June, Test set: 2017 July - Dec \n",
    "train =\n",
    "test =\n",
    "test.tail()"
   ]
  },
  {
   "cell_type": "markdown",
   "metadata": {
    "slideshow": {
     "slide_type": "subslide"
    }
   },
   "source": [
    "Let's visualise the train and test together to see how they vary over a time period."
   ]
  },
  {
   "cell_type": "code",
   "execution_count": null,
   "metadata": {
    "scrolled": false,
    "slideshow": {
     "slide_type": "fragment"
    }
   },
   "outputs": [],
   "source": [
    "#Plotting data\n",
    "train.sales.plot(figsize=(15,8), title= 'Sales', fontsize=14)\n",
    "test.sales.plot(figsize=(15,8), title= 'Sales', fontsize=14)\n",
    "plt.show()"
   ]
  },
  {
   "cell_type": "markdown",
   "metadata": {
    "slideshow": {
     "slide_type": "subslide"
    }
   },
   "source": [
    "# Random Walk (Naive)<span style=\"color:#20419a\">\n",
    "    \n",
    "Many a times we are provided with a dataset, which is stable throughout it’s time period. If we want to forecast the price for the next day, we can simply take the last day value and estimate the same value for the next day. \n",
    "This is called <b> Naive Method </b>.\n",
    "\n",
    "$\\hat{y}_{t+1} =  $y$_{t}$"
   ]
  },
  {
   "cell_type": "markdown",
   "metadata": {
    "slideshow": {
     "slide_type": "fragment"
    }
   },
   "source": [
    "Now we will implement the Naive method to forecast the prices for test data."
   ]
  },
  {
   "cell_type": "code",
   "execution_count": null,
   "metadata": {
    "slideshow": {
     "slide_type": "subslide"
    }
   },
   "outputs": [],
   "source": [
    "dd= np.asarray(train.sales) # Convert to an array\n",
    "y_hat = test.copy()\n",
    "y_hat['naive'] = dd[len(dd)-1] # Naive forecast y(t+1) = y(t)\n",
    "plt.figure(figsize=(12,8))\n",
    "plt.plot(train.index, train['sales'], label='Train')\n",
    "plt.plot(test.index,test['sales'], label='Test')\n",
    "plt.plot(y_hat.index,y_hat['naive'], label='Naive Forecast')\n",
    "plt.legend(loc='best')\n",
    "plt.title(\"Naive Forecast\")\n",
    "plt.show()"
   ]
  },
  {
   "cell_type": "code",
   "execution_count": null,
   "metadata": {
    "slideshow": {
     "slide_type": "subslide"
    }
   },
   "outputs": [],
   "source": [
    "# Next we will calculate the RMSE to check accuracy of Naive Model on test data set. \n",
    "from sklearn.metrics import mean_squared_error\n",
    "from math import sqrt\n",
    "rms = sqrt(mean_squared_error(test.sales, y_hat.naive))\n",
    "print(\"RMSE for Naive Method : \", round(rms, 2))"
   ]
  },
  {
   "cell_type": "markdown",
   "metadata": {
    "papermill": {
     "duration": 0.086295,
     "end_time": "2020-12-01T14:51:25.171335",
     "exception": false,
     "start_time": "2020-12-01T14:51:25.085040",
     "status": "completed"
    },
    "slideshow": {
     "slide_type": "subslide"
    },
    "tags": []
   },
   "source": [
    "# Moving Averages"
   ]
  },
  {
   "cell_type": "markdown",
   "metadata": {
    "papermill": {
     "duration": 0.132884,
     "end_time": "2020-12-01T14:51:25.389671",
     "exception": false,
     "start_time": "2020-12-01T14:51:25.256787",
     "status": "completed"
    },
    "slideshow": {
     "slide_type": "subslide"
    },
    "tags": []
   },
   "source": [
    "## SMA - Simple Moving Averages"
   ]
  },
  {
   "cell_type": "code",
   "execution_count": null,
   "metadata": {
    "execution": {
     "iopub.execute_input": "2020-12-01T14:51:25.571253Z",
     "iopub.status.busy": "2020-12-01T14:51:25.570142Z",
     "iopub.status.idle": "2020-12-01T14:51:25.575619Z",
     "shell.execute_reply": "2020-12-01T14:51:25.574863Z"
    },
    "papermill": {
     "duration": 0.100635,
     "end_time": "2020-12-01T14:51:25.575749",
     "exception": false,
     "start_time": "2020-12-01T14:51:25.475114",
     "status": "completed"
    },
    "scrolled": true,
    "slideshow": {
     "slide_type": "subslide"
    },
    "tags": []
   },
   "outputs": [],
   "source": [
    "# This time we will reuse the Airline dataset.\n",
    "airline.head()"
   ]
  },
  {
   "cell_type": "code",
   "execution_count": null,
   "metadata": {
    "execution": {
     "iopub.execute_input": "2020-12-01T14:51:25.752463Z",
     "iopub.status.busy": "2020-12-01T14:51:25.751666Z",
     "iopub.status.idle": "2020-12-01T14:51:25.779185Z",
     "shell.execute_reply": "2020-12-01T14:51:25.778516Z"
    },
    "papermill": {
     "duration": 0.11882,
     "end_time": "2020-12-01T14:51:25.779334",
     "exception": false,
     "start_time": "2020-12-01T14:51:25.660514",
     "status": "completed"
    },
    "slideshow": {
     "slide_type": "fragment"
    },
    "tags": []
   },
   "outputs": [],
   "source": [
    "airline.dropna(inplace=True)"
   ]
  },
  {
   "cell_type": "markdown",
   "metadata": {
    "slideshow": {
     "slide_type": "fragment"
    }
   },
   "source": [
    "Create Moving Average 30 days using the `rolling(window)` and `mean` function. "
   ]
  },
  {
   "cell_type": "code",
   "execution_count": null,
   "metadata": {
    "execution": {
     "iopub.execute_input": "2020-12-01T14:51:25.959015Z",
     "iopub.status.busy": "2020-12-01T14:51:25.957894Z",
     "iopub.status.idle": "2020-12-01T14:51:25.965369Z",
     "shell.execute_reply": "2020-12-01T14:51:25.964552Z"
    },
    "papermill": {
     "duration": 0.09989,
     "end_time": "2020-12-01T14:51:25.965497",
     "exception": false,
     "start_time": "2020-12-01T14:51:25.865607",
     "status": "completed"
    },
    "slideshow": {
     "slide_type": "fragment"
    },
    "tags": []
   },
   "outputs": [],
   "source": [
    "data['30-days-SMA'] = data['sales'].rolling(window=30).mean()"
   ]
  },
  {
   "cell_type": "code",
   "execution_count": null,
   "metadata": {
    "execution": {
     "iopub.execute_input": "2020-12-01T14:51:26.148934Z",
     "iopub.status.busy": "2020-12-01T14:51:26.147566Z",
     "iopub.status.idle": "2020-12-01T14:51:26.151415Z",
     "shell.execute_reply": "2020-12-01T14:51:26.150624Z"
    },
    "papermill": {
     "duration": 0.097732,
     "end_time": "2020-12-01T14:51:26.151552",
     "exception": false,
     "start_time": "2020-12-01T14:51:26.053820",
     "status": "completed"
    },
    "scrolled": true,
    "slideshow": {
     "slide_type": "subslide"
    },
    "tags": []
   },
   "outputs": [],
   "source": [
    "# Now create a 60-days SMA. \n",
    "data['60-days-SMA'] = \n",
    "data.plot(title='Simple Moving Averages', y= ['sales', '30-days-SMA', '60-days-SMA']);"
   ]
  },
  {
   "cell_type": "markdown",
   "metadata": {
    "papermill": {
     "duration": 0.087638,
     "end_time": "2020-12-01T14:51:26.933217",
     "exception": false,
     "start_time": "2020-12-01T14:51:26.845579",
     "status": "completed"
    },
    "slideshow": {
     "slide_type": "subslide"
    },
    "tags": []
   },
   "source": [
    "Note that rolling introduces the NaN depending on the window size selected. However there are some disadvantages of simple moving average\n",
    "- Smaller windows will lead to more noise, rather than signal\n",
    "- It will always lag by the size of the window (see the MA starts after a certain lag above in the figure)\n",
    "- It will never reach to full peak or valley of the data due to the averaging.\n",
    "- Does not really inform you about possible future behavior, all it really does is describe trends in your data.\n",
    "- Extreme historical values can skew your SMA significantly\n",
    "\n",
    "To help fix some of these problems, we have the EWMA or the Exponentially Weighted Moving Average"
   ]
  },
  {
   "cell_type": "markdown",
   "metadata": {
    "papermill": {
     "duration": 0.088429,
     "end_time": "2020-12-01T14:51:27.113935",
     "exception": false,
     "start_time": "2020-12-01T14:51:27.025506",
     "status": "completed"
    },
    "slideshow": {
     "slide_type": "subslide"
    },
    "tags": []
   },
   "source": [
    "## EWMA - Exponentially Weighted Moving Average\n",
    "EWMA alows to reduce the lag by putting more weight to the recent readings or values. The <span style=\"color:blue\">amount of weight</span> applied is dependent on the <span style=\"color:lightgreen\">actual parameters in the EWMA</span> and the <span style=\"color:lightgreen\">number of periods given in a window size.</span> \n",
    "\n",
    "More information can be found here \n",
    "<a href =\"https://pandas.pydata.org/pandas-docs/stable/user_guide/computation.html#exponentially-weighted-windows\">EWM Pandas</a> \n",
    "\n",
    "Note: EWMA applies Single Exponential Smoothing Function `ewm`. Set `adjust = False` so that the exponentially weighted function is calculated recursively:\n",
    "\n",
    "$y_0$ = $x_0$\n",
    "\n",
    "$y_t$ = $x_0$ = (1−$\\alpha$)$y_{(t−1)}$ + $\\alpha$$x_t$"
   ]
  },
  {
   "cell_type": "code",
   "execution_count": null,
   "metadata": {
    "slideshow": {
     "slide_type": "subslide"
    }
   },
   "outputs": [],
   "source": [
    "# Perform ewm on the store dataset for span = 120. Create 1 new column called ewma120.\n",
    "data['ewma120'] = "
   ]
  },
  {
   "cell_type": "markdown",
   "metadata": {
    "papermill": {
     "duration": 0.094113,
     "end_time": "2020-12-01T14:51:28.081236",
     "exception": false,
     "start_time": "2020-12-01T14:51:27.987123",
     "status": "completed"
    },
    "slideshow": {
     "slide_type": "subslide"
    },
    "tags": []
   },
   "source": [
    "## Comparing SMA to EWMA\n",
    "Now compare your SMA to EWMA for GDP dataset.\n",
    "Example: \n",
    "\n",
    "    `airline[['Thousands of Passengers','ewma12','6-month-SMA','12-month-SMA']].plot()`"
   ]
  },
  {
   "cell_type": "code",
   "execution_count": null,
   "metadata": {},
   "outputs": [],
   "source": [
    "# Compare your SMA to EWMA here.\n"
   ]
  },
  {
   "cell_type": "markdown",
   "metadata": {
    "papermill": {
     "duration": 0.093981,
     "end_time": "2020-12-01T14:51:28.696106",
     "exception": false,
     "start_time": "2020-12-01T14:51:28.602125",
     "status": "completed"
    },
    "slideshow": {
     "slide_type": "subslide"
    },
    "tags": []
   },
   "source": [
    "# Holt Winters - Simple, Double and Triple Exponential Smoothing"
   ]
  },
  {
   "cell_type": "markdown",
   "metadata": {
    "papermill": {
     "duration": 0.092854,
     "end_time": "2020-12-01T14:51:28.883306",
     "exception": false,
     "start_time": "2020-12-01T14:51:28.790452",
     "status": "completed"
    },
    "slideshow": {
     "slide_type": "subslide"
    },
    "tags": []
   },
   "source": [
    "Moving Averages and Single Exponential Smoothing does a poor job of forecasting when there is trend and seasonality in the data. Double and Triple exponential smoothing is best suited for this kind of time-series data. \n",
    "<p> Holt winters has all the three variations - <span style=\"color:red\"> Single, Double and Triple exponential smoothing. </span>\n",
    "<p> Double Exponential smoothing uses a smoothing factor that addresses <span style=\"color:blue\">trend</span>. Triple Exponential smoothing uses a smoothing factor that addresses <span style=\"color:blue\">seasonality.<span>\n",
    "\n",
    "<p> Span corresponds to what is commonly called an <i>“N-day EW moving average”</i>. Alpha specifies the smoothing factor \n",
    "directly.</p>\n",
    "\n",
    "Refer <a href=\"https://pandas.pydata.org/pandas-docs/stable/user_guide/computation.html#exponentially-weighted-windows\">Exponentially weighted window</a>"
   ]
  },
  {
   "cell_type": "markdown",
   "metadata": {
    "papermill": {
     "duration": 0.094077,
     "end_time": "2020-12-01T14:51:29.856091",
     "exception": false,
     "start_time": "2020-12-01T14:51:29.762014",
     "status": "completed"
    },
    "slideshow": {
     "slide_type": "subslide"
    },
    "tags": []
   },
   "source": [
    "To work with forecasting models like Holt Winters, ARIMA, SARIMA etc., the datetime index frequency needs to be set. The Store dataset index indicates dates daily. Hence we can set this as 'D'. Can use the `pd.DateTime.Index(freq)`\n",
    "For `Index objects` refer here <a href = \"https://pandas.pydata.org/pandas-docs/stable/reference/api/pandas.DatetimeIndex.html\">pd.Index</a>.\n",
    "\n",
    "For frequency strings: refer here: <a href=\"https://pandas.pydata.org/pandas-docs/stable/user_guide/timeseries.html#offset-aliases\">Click here</a>"
   ]
  },
  {
   "cell_type": "code",
   "execution_count": null,
   "metadata": {
    "execution": {
     "iopub.execute_input": "2020-12-01T14:51:30.056735Z",
     "iopub.status.busy": "2020-12-01T14:51:30.055705Z",
     "iopub.status.idle": "2020-12-01T14:51:30.060391Z",
     "shell.execute_reply": "2020-12-01T14:51:30.059607Z"
    },
    "papermill": {
     "duration": 0.109329,
     "end_time": "2020-12-01T14:51:30.060521",
     "exception": false,
     "start_time": "2020-12-01T14:51:29.951192",
     "status": "completed"
    },
    "slideshow": {
     "slide_type": "fragment"
    },
    "tags": []
   },
   "outputs": [],
   "source": [
    "# Set the frequency of the date time index as Monthly start as indicated by the data. \n",
    "data"
   ]
  },
  {
   "cell_type": "code",
   "execution_count": null,
   "metadata": {
    "execution": {
     "iopub.execute_input": "2020-12-01T14:51:30.497658Z",
     "iopub.status.busy": "2020-12-01T14:51:30.496587Z",
     "iopub.status.idle": "2020-12-01T14:51:30.502973Z",
     "shell.execute_reply": "2020-12-01T14:51:30.503636Z"
    },
    "papermill": {
     "duration": 0.132703,
     "end_time": "2020-12-01T14:51:30.503811",
     "exception": false,
     "start_time": "2020-12-01T14:51:30.371108",
     "status": "completed"
    },
    "slideshow": {
     "slide_type": "subslide"
    },
    "tags": []
   },
   "outputs": [],
   "source": [
    "# Check the index of the store data\n",
    "data.index"
   ]
  },
  {
   "cell_type": "markdown",
   "metadata": {
    "papermill": {
     "duration": 0.096341,
     "end_time": "2020-12-01T14:51:30.698340",
     "exception": false,
     "start_time": "2020-12-01T14:51:30.601999",
     "status": "completed"
    },
    "slideshow": {
     "slide_type": "slide"
    },
    "tags": []
   },
   "source": [
    "## Simple Exponential Smoothing - Using Holt Winters\n",
    "This is same as `ewm` method in Pandas. For simple exponential smoothing, the function is called `SimpleExpSmoothing`.\n",
    "<a href=\"https://www.statsmodels.org/stable/generated/statsmodels.tsa.holtwinters.SimpleExpSmoothing.html#statsmodels.tsa.holtwinters.SimpleExpSmoothing\"> Source</a>"
   ]
  },
  {
   "cell_type": "code",
   "execution_count": 16,
   "metadata": {
    "execution": {
     "iopub.execute_input": "2020-12-01T14:51:29.461597Z",
     "iopub.status.busy": "2020-12-01T14:51:29.460390Z",
     "iopub.status.idle": "2020-12-01T14:51:29.463882Z",
     "shell.execute_reply": "2020-12-01T14:51:29.463237Z"
    },
    "papermill": {
     "duration": 0.104105,
     "end_time": "2020-12-01T14:51:29.464016",
     "exception": false,
     "start_time": "2020-12-01T14:51:29.359911",
     "status": "completed"
    },
    "slideshow": {
     "slide_type": "fragment"
    },
    "tags": []
   },
   "outputs": [],
   "source": [
    "# set the span and the smoothing factor alpha\n",
    "span = 365.5\n",
    "alpha = 2 / (span+1)"
   ]
  },
  {
   "cell_type": "markdown",
   "metadata": {
    "slideshow": {
     "slide_type": "subslide"
    }
   },
   "source": [
    "Using the `SimpleExpSmoothing` and `fit` method, apply the smoothing factor alpha and label the new feature as <u>SES12</u>.\n",
    "\n",
    "<i>E.g. airline['SES12'] = SimpleExpSmoothing(airline['Thousands of Passengers']).fit(smoothing_level=alpha,optimized=False).fittedvalues.shift(-1)</i>\n",
    "\n",
    "NOTE: For some reason, when optimized=False is passed into .fit(), the statsmodels SimpleExpSmoothing function shifts fitted values down one row. We fix this by adding `.shift(-1)` after .fittedvalues"
   ]
  },
  {
   "cell_type": "code",
   "execution_count": null,
   "metadata": {
    "execution": {
     "iopub.execute_input": "2020-12-01T14:51:30.901824Z",
     "iopub.status.busy": "2020-12-01T14:51:30.901013Z",
     "iopub.status.idle": "2020-12-01T14:51:30.914107Z",
     "shell.execute_reply": "2020-12-01T14:51:30.913395Z"
    },
    "papermill": {
     "duration": 0.119713,
     "end_time": "2020-12-01T14:51:30.914253",
     "exception": false,
     "start_time": "2020-12-01T14:51:30.794540",
     "status": "completed"
    },
    "scrolled": true,
    "slideshow": {
     "slide_type": "subslide"
    },
    "tags": []
   },
   "outputs": [],
   "source": [
    "from statsmodels.tsa.api import ExponentialSmoothing, SimpleExpSmoothing, Holt\n",
    "# Perform the SES on the sales column\n",
    "data['SES12'] = "
   ]
  },
  {
   "cell_type": "markdown",
   "metadata": {},
   "source": [
    "Now compare the ewma12 from Pandas and SES12 from the statsmodel package. What do you observe?"
   ]
  },
  {
   "cell_type": "code",
   "execution_count": null,
   "metadata": {
    "execution": {
     "iopub.execute_input": "2020-12-01T14:51:31.538259Z",
     "iopub.status.busy": "2020-12-01T14:51:31.536962Z",
     "iopub.status.idle": "2020-12-01T14:51:31.753555Z",
     "shell.execute_reply": "2020-12-01T14:51:31.752790Z"
    },
    "papermill": {
     "duration": 0.331243,
     "end_time": "2020-12-01T14:51:31.753680",
     "exception": false,
     "start_time": "2020-12-01T14:51:31.422437",
     "status": "completed"
    },
    "slideshow": {
     "slide_type": "subslide"
    },
    "tags": []
   },
   "outputs": [],
   "source": [
    "# airline[['Thousands of Passengers','ewma12','SES12']].plot(title='Pandas EWMA and Statsmodels Holt Winters Single Exponential Smoothing');    \n",
    "\n",
    "                   "
   ]
  },
  {
   "cell_type": "code",
   "execution_count": null,
   "metadata": {},
   "outputs": [],
   "source": [
    "# Check using the df.head() function.\n"
   ]
  },
  {
   "cell_type": "markdown",
   "metadata": {
    "papermill": {
     "duration": 0.100939,
     "end_time": "2020-12-01T14:51:31.953812",
     "exception": false,
     "start_time": "2020-12-01T14:51:31.852873",
     "status": "completed"
    },
    "slideshow": {
     "slide_type": "fragment"
    },
    "tags": []
   },
   "source": [
    "Both the EWMA and Holt Winters Single Exponential Smoothing curve fit each other completely. "
   ]
  },
  {
   "cell_type": "markdown",
   "metadata": {
    "papermill": {
     "duration": 0.101905,
     "end_time": "2020-12-01T14:51:32.157294",
     "exception": false,
     "start_time": "2020-12-01T14:51:32.055389",
     "status": "completed"
    },
    "slideshow": {
     "slide_type": "subslide"
    },
    "tags": []
   },
   "source": [
    "## Double Exponential Smoothing"
   ]
  },
  {
   "cell_type": "markdown",
   "metadata": {},
   "source": [
    "Using the `ExponentialSmoothing` method, perform double exponential smoothing on the store dataset. "
   ]
  },
  {
   "cell_type": "code",
   "execution_count": null,
   "metadata": {
    "execution": {
     "iopub.execute_input": "2020-12-01T14:51:32.366847Z",
     "iopub.status.busy": "2020-12-01T14:51:32.365771Z",
     "iopub.status.idle": "2020-12-01T14:51:32.387423Z",
     "shell.execute_reply": "2020-12-01T14:51:32.386731Z"
    },
    "papermill": {
     "duration": 0.128925,
     "end_time": "2020-12-01T14:51:32.387569",
     "exception": false,
     "start_time": "2020-12-01T14:51:32.258644",
     "status": "completed"
    },
    "slideshow": {
     "slide_type": "subslide"
    },
    "tags": []
   },
   "outputs": [],
   "source": [
    "# data['DES12']  ExponentialSmoothing(col, trend = 'add').fit().fittedvalues.shift(-1)\n",
    "data['DES12'] = "
   ]
  },
  {
   "cell_type": "code",
   "execution_count": null,
   "metadata": {
    "execution": {
     "iopub.execute_input": "2020-12-01T14:51:32.606158Z",
     "iopub.status.busy": "2020-12-01T14:51:32.604969Z",
     "iopub.status.idle": "2020-12-01T14:51:32.840736Z",
     "shell.execute_reply": "2020-12-01T14:51:32.841446Z"
    },
    "papermill": {
     "duration": 0.349008,
     "end_time": "2020-12-01T14:51:32.841624",
     "exception": false,
     "start_time": "2020-12-01T14:51:32.492616",
     "status": "completed"
    },
    "scrolled": true,
    "slideshow": {
     "slide_type": "subslide"
    },
    "tags": []
   },
   "outputs": [],
   "source": [
    "# Visualise the SES with DES of the store data. \n",
    "data[['sales', 'SES12', 'DES12']].plot(title = \"Holt-Winters Single & Double Exponential SMoothing\")"
   ]
  },
  {
   "cell_type": "code",
   "execution_count": null,
   "metadata": {},
   "outputs": [],
   "source": []
  },
  {
   "cell_type": "markdown",
   "metadata": {
    "papermill": {
     "duration": 0.107764,
     "end_time": "2020-12-01T14:51:33.053606",
     "exception": false,
     "start_time": "2020-12-01T14:51:32.945842",
     "status": "completed"
    },
    "slideshow": {
     "slide_type": "fragment"
    },
    "tags": []
   },
   "source": [
    "Here the double exponential smoothing completely overlaps on the original data. Let's plot for the last 24 months."
   ]
  },
  {
   "cell_type": "code",
   "execution_count": null,
   "metadata": {
    "execution": {
     "iopub.execute_input": "2020-12-01T14:51:33.282733Z",
     "iopub.status.busy": "2020-12-01T14:51:33.279392Z",
     "iopub.status.idle": "2020-12-01T14:51:33.549673Z",
     "shell.execute_reply": "2020-12-01T14:51:33.550247Z"
    },
    "papermill": {
     "duration": 0.391445,
     "end_time": "2020-12-01T14:51:33.550565",
     "exception": false,
     "start_time": "2020-12-01T14:51:33.159120",
     "status": "completed"
    },
    "tags": []
   },
   "outputs": [],
   "source": [
    "data[['sales','SES12','DES12']].iloc[:24].plot(title='Holt Winters Single & Double Exponential Smoothing Last 24 months').autoscale(axis='x',tight=True);"
   ]
  },
  {
   "cell_type": "markdown",
   "metadata": {
    "papermill": {
     "duration": 0.104972,
     "end_time": "2020-12-01T14:51:33.761484",
     "exception": false,
     "start_time": "2020-12-01T14:51:33.656512",
     "status": "completed"
    },
    "slideshow": {
     "slide_type": "subslide"
    },
    "tags": []
   },
   "source": [
    "Lets replot the above using the multiplicative adjustment instead of additive."
   ]
  },
  {
   "cell_type": "code",
   "execution_count": null,
   "metadata": {
    "execution": {
     "iopub.execute_input": "2020-12-01T14:51:34.008393Z",
     "iopub.status.busy": "2020-12-01T14:51:34.004935Z",
     "iopub.status.idle": "2020-12-01T14:51:34.013189Z",
     "shell.execute_reply": "2020-12-01T14:51:34.012120Z"
    },
    "papermill": {
     "duration": 0.145206,
     "end_time": "2020-12-01T14:51:34.013414",
     "exception": false,
     "start_time": "2020-12-01T14:51:33.868208",
     "status": "completed"
    },
    "slideshow": {
     "slide_type": "fragment"
    },
    "tags": []
   },
   "outputs": [],
   "source": [
    "data['DES12_mul'] = "
   ]
  },
  {
   "cell_type": "code",
   "execution_count": null,
   "metadata": {
    "execution": {
     "iopub.execute_input": "2020-12-01T14:51:34.252800Z",
     "iopub.status.busy": "2020-12-01T14:51:34.251598Z",
     "iopub.status.idle": "2020-12-01T14:51:34.633681Z",
     "shell.execute_reply": "2020-12-01T14:51:34.634403Z"
    },
    "papermill": {
     "duration": 0.50983,
     "end_time": "2020-12-01T14:51:34.634584",
     "exception": false,
     "start_time": "2020-12-01T14:51:34.124754",
     "status": "completed"
    },
    "slideshow": {
     "slide_type": "subslide"
    },
    "tags": []
   },
   "outputs": [],
   "source": [
    "data[['sales','DES12','DES12_mul']].iloc[:24].plot(title='Holt Winters Double Exponential Smoothing Last (Additive vs Multiplicative)').autoscale(axis='x',tight=True);"
   ]
  },
  {
   "cell_type": "markdown",
   "metadata": {
    "papermill": {
     "duration": 0.106306,
     "end_time": "2020-12-01T14:51:34.852386",
     "exception": false,
     "start_time": "2020-12-01T14:51:34.746080",
     "status": "completed"
    },
    "slideshow": {
     "slide_type": "fragment"
    },
    "tags": []
   },
   "source": [
    "Although minor, the multiplicative adjustment gives a better result compared to the additive adjustment for the trend."
   ]
  },
  {
   "cell_type": "markdown",
   "metadata": {
    "papermill": {
     "duration": 0.110082,
     "end_time": "2020-12-01T14:51:35.069891",
     "exception": false,
     "start_time": "2020-12-01T14:51:34.959809",
     "status": "completed"
    },
    "slideshow": {
     "slide_type": "subslide"
    },
    "tags": []
   },
   "source": [
    "## Triple Exponential Smoothing "
   ]
  },
  {
   "cell_type": "code",
   "execution_count": null,
   "metadata": {
    "execution": {
     "iopub.execute_input": "2020-12-01T14:51:35.292402Z",
     "iopub.status.busy": "2020-12-01T14:51:35.291630Z",
     "iopub.status.idle": "2020-12-01T14:51:35.411712Z",
     "shell.execute_reply": "2020-12-01T14:51:35.410770Z"
    },
    "papermill": {
     "duration": 0.23311,
     "end_time": "2020-12-01T14:51:35.411852",
     "exception": false,
     "start_time": "2020-12-01T14:51:35.178742",
     "status": "completed"
    },
    "slideshow": {
     "slide_type": "subslide"
    },
    "tags": []
   },
   "outputs": [],
   "source": [
    "# Additive trend. Complete the code.\n",
    "data['TESadd12'] = ExponentialSmoothing().fit().fittedvalues"
   ]
  },
  {
   "cell_type": "code",
   "execution_count": null,
   "metadata": {
    "execution": {
     "iopub.execute_input": "2020-12-01T14:51:35.870236Z",
     "iopub.status.busy": "2020-12-01T14:51:35.869460Z",
     "iopub.status.idle": "2020-12-01T14:51:36.097187Z",
     "shell.execute_reply": "2020-12-01T14:51:36.097823Z"
    },
    "papermill": {
     "duration": 0.343641,
     "end_time": "2020-12-01T14:51:36.098006",
     "exception": false,
     "start_time": "2020-12-01T14:51:35.754365",
     "status": "completed"
    },
    "slideshow": {
     "slide_type": "subslide"
    },
    "tags": []
   },
   "outputs": [],
   "source": [
    "# Multiplicative trend. Complete the code\n",
    "data['TESmul12'] = ExponentialSmoothing().fit().fittedvalues"
   ]
  },
  {
   "cell_type": "code",
   "execution_count": null,
   "metadata": {},
   "outputs": [],
   "source": [
    "data.head()"
   ]
  },
  {
   "cell_type": "code",
   "execution_count": null,
   "metadata": {
    "execution": {
     "iopub.execute_input": "2020-12-01T14:51:36.348227Z",
     "iopub.status.busy": "2020-12-01T14:51:36.342471Z",
     "iopub.status.idle": "2020-12-01T14:51:36.630818Z",
     "shell.execute_reply": "2020-12-01T14:51:36.630067Z"
    },
    "papermill": {
     "duration": 0.418596,
     "end_time": "2020-12-01T14:51:36.630956",
     "exception": false,
     "start_time": "2020-12-01T14:51:36.212360",
     "status": "completed"
    },
    "slideshow": {
     "slide_type": "subslide"
    },
    "tags": []
   },
   "outputs": [],
   "source": [
    "data[['sales','TESadd12','TESmul12']].iloc[:24].plot(title='Holt Winters Triple Exponential Smoothing Last (Additive vs Multiplicative)').autoscale(axis='x',tight=True);"
   ]
  },
  {
   "cell_type": "markdown",
   "metadata": {
    "papermill": {
     "duration": 0.111084,
     "end_time": "2020-12-01T14:51:36.853267",
     "exception": false,
     "start_time": "2020-12-01T14:51:36.742183",
     "status": "completed"
    },
    "slideshow": {
     "slide_type": "slide"
    },
    "tags": []
   },
   "source": [
    "# Part III - Forecasting with Holt Winters Method"
   ]
  },
  {
   "cell_type": "markdown",
   "metadata": {
    "papermill": {
     "duration": 0.110387,
     "end_time": "2020-12-01T14:51:37.076056",
     "exception": false,
     "start_time": "2020-12-01T14:51:36.965669",
     "status": "completed"
    },
    "slideshow": {
     "slide_type": "fragment"
    },
    "tags": []
   },
   "source": [
    "Lets read the sales data again to have a fresh copy"
   ]
  },
  {
   "cell_type": "code",
   "execution_count": 18,
   "metadata": {},
   "outputs": [],
   "source": [
    "from statsmodels.tsa.api import ExponentialSmoothing, SimpleExpSmoothing, Holt"
   ]
  },
  {
   "cell_type": "code",
   "execution_count": 19,
   "metadata": {
    "execution": {
     "iopub.execute_input": "2020-12-01T14:51:37.307153Z",
     "iopub.status.busy": "2020-12-01T14:51:37.303621Z",
     "iopub.status.idle": "2020-12-01T14:51:37.311033Z",
     "shell.execute_reply": "2020-12-01T14:51:37.310207Z"
    },
    "papermill": {
     "duration": 0.124696,
     "end_time": "2020-12-01T14:51:37.311163",
     "exception": false,
     "start_time": "2020-12-01T14:51:37.186467",
     "status": "completed"
    },
    "slideshow": {
     "slide_type": "fragment"
    },
    "tags": []
   },
   "outputs": [
    {
     "data": {
      "text/html": [
       "<div>\n",
       "<style scoped>\n",
       "    .dataframe tbody tr th:only-of-type {\n",
       "        vertical-align: middle;\n",
       "    }\n",
       "\n",
       "    .dataframe tbody tr th {\n",
       "        vertical-align: top;\n",
       "    }\n",
       "\n",
       "    .dataframe thead th {\n",
       "        text-align: right;\n",
       "    }\n",
       "</style>\n",
       "<table border=\"1\" class=\"dataframe\">\n",
       "  <thead>\n",
       "    <tr style=\"text-align: right;\">\n",
       "      <th></th>\n",
       "      <th>store</th>\n",
       "      <th>item</th>\n",
       "      <th>sales</th>\n",
       "    </tr>\n",
       "    <tr>\n",
       "      <th>date</th>\n",
       "      <th></th>\n",
       "      <th></th>\n",
       "      <th></th>\n",
       "    </tr>\n",
       "  </thead>\n",
       "  <tbody>\n",
       "    <tr>\n",
       "      <th>2013-01-01</th>\n",
       "      <td>1</td>\n",
       "      <td>1</td>\n",
       "      <td>13</td>\n",
       "    </tr>\n",
       "    <tr>\n",
       "      <th>2013-01-02</th>\n",
       "      <td>1</td>\n",
       "      <td>1</td>\n",
       "      <td>11</td>\n",
       "    </tr>\n",
       "    <tr>\n",
       "      <th>2013-01-03</th>\n",
       "      <td>1</td>\n",
       "      <td>1</td>\n",
       "      <td>14</td>\n",
       "    </tr>\n",
       "    <tr>\n",
       "      <th>2013-01-04</th>\n",
       "      <td>1</td>\n",
       "      <td>1</td>\n",
       "      <td>13</td>\n",
       "    </tr>\n",
       "    <tr>\n",
       "      <th>2013-01-05</th>\n",
       "      <td>1</td>\n",
       "      <td>1</td>\n",
       "      <td>10</td>\n",
       "    </tr>\n",
       "  </tbody>\n",
       "</table>\n",
       "</div>"
      ],
      "text/plain": [
       "            store  item  sales\n",
       "date                          \n",
       "2013-01-01      1     1     13\n",
       "2013-01-02      1     1     11\n",
       "2013-01-03      1     1     14\n",
       "2013-01-04      1     1     13\n",
       "2013-01-05      1     1     10"
      ]
     },
     "execution_count": 19,
     "metadata": {},
     "output_type": "execute_result"
    }
   ],
   "source": [
    "store = pd.read_csv(\"../input/demand_store_forecast/train.csv\", parse_dates = True, index_col = 'date')\n",
    "store.head() "
   ]
  },
  {
   "cell_type": "code",
   "execution_count": 20,
   "metadata": {},
   "outputs": [],
   "source": [
    "# Filter Store 2, Item # 50\n",
    "store = store[(store['store'] == 2) & (store['item'] == 50)]"
   ]
  },
  {
   "cell_type": "code",
   "execution_count": null,
   "metadata": {
    "execution": {
     "iopub.execute_input": "2020-12-01T14:51:37.542266Z",
     "iopub.status.busy": "2020-12-01T14:51:37.541237Z",
     "iopub.status.idle": "2020-12-01T14:51:37.545777Z",
     "shell.execute_reply": "2020-12-01T14:51:37.544971Z"
    },
    "papermill": {
     "duration": 0.120255,
     "end_time": "2020-12-01T14:51:37.545903",
     "exception": false,
     "start_time": "2020-12-01T14:51:37.425648",
     "status": "completed"
    },
    "slideshow": {
     "slide_type": "fragment"
    },
    "tags": []
   },
   "outputs": [],
   "source": [
    "store.index.freq = 'D'"
   ]
  },
  {
   "cell_type": "code",
   "execution_count": null,
   "metadata": {
    "execution": {
     "iopub.execute_input": "2020-12-01T14:51:37.773235Z",
     "iopub.status.busy": "2020-12-01T14:51:37.772445Z",
     "iopub.status.idle": "2020-12-01T14:51:37.779209Z",
     "shell.execute_reply": "2020-12-01T14:51:37.778462Z"
    },
    "papermill": {
     "duration": 0.124097,
     "end_time": "2020-12-01T14:51:37.779355",
     "exception": false,
     "start_time": "2020-12-01T14:51:37.655258",
     "status": "completed"
    },
    "slideshow": {
     "slide_type": "subslide"
    },
    "tags": []
   },
   "outputs": [],
   "source": [
    "store.index # Get the index"
   ]
  },
  {
   "cell_type": "code",
   "execution_count": null,
   "metadata": {
    "execution": {
     "iopub.execute_input": "2020-12-01T14:51:38.011575Z",
     "iopub.status.busy": "2020-12-01T14:51:38.010369Z",
     "iopub.status.idle": "2020-12-01T14:51:38.015013Z",
     "shell.execute_reply": "2020-12-01T14:51:38.015738Z"
    },
    "papermill": {
     "duration": 0.126514,
     "end_time": "2020-12-01T14:51:38.015960",
     "exception": false,
     "start_time": "2020-12-01T14:51:37.889446",
     "status": "completed"
    },
    "tags": []
   },
   "outputs": [],
   "source": [
    "store.tail() # Last 5 rows of Store Series"
   ]
  },
  {
   "cell_type": "code",
   "execution_count": null,
   "metadata": {
    "execution": {
     "iopub.execute_input": "2020-12-01T14:51:38.249765Z",
     "iopub.status.busy": "2020-12-01T14:51:38.248746Z",
     "iopub.status.idle": "2020-12-01T14:51:38.254481Z",
     "shell.execute_reply": "2020-12-01T14:51:38.253652Z"
    },
    "papermill": {
     "duration": 0.125123,
     "end_time": "2020-12-01T14:51:38.254626",
     "exception": false,
     "start_time": "2020-12-01T14:51:38.129503",
     "status": "completed"
    },
    "tags": []
   },
   "outputs": [],
   "source": [
    "# Number of months of data \n",
    ".75*len(store)"
   ]
  },
  {
   "cell_type": "markdown",
   "metadata": {
    "papermill": {
     "duration": 0.111113,
     "end_time": "2020-12-01T14:51:38.477364",
     "exception": false,
     "start_time": "2020-12-01T14:51:38.366251",
     "status": "completed"
    },
    "slideshow": {
     "slide_type": "subslide"
    },
    "tags": []
   },
   "source": [
    "### Split into training and test set\n",
    "It is important to remember that the time-series are dependent on time, hence it is wise to split train test by sequence. \n",
    "<span style = \"color:#00a19C\"> ORDER MATTERS! </span>"
   ]
  },
  {
   "cell_type": "code",
   "execution_count": null,
   "metadata": {
    "execution": {
     "iopub.execute_input": "2020-12-01T14:51:38.712111Z",
     "iopub.status.busy": "2020-12-01T14:51:38.711109Z",
     "iopub.status.idle": "2020-12-01T14:51:38.713564Z",
     "shell.execute_reply": "2020-12-01T14:51:38.714252Z"
    },
    "papermill": {
     "duration": 0.12217,
     "end_time": "2020-12-01T14:51:38.714433",
     "exception": false,
     "start_time": "2020-12-01T14:51:38.592263",
     "status": "completed"
    },
    "slideshow": {
     "slide_type": "fragment"
    },
    "tags": []
   },
   "outputs": [],
   "source": [
    "# Split into 75% train and 25% test set. Remember that sequence matters in time-series forecasting!\n",
    "train_store = store[:1370] \n",
    "test_store = store[1370:] "
   ]
  },
  {
   "cell_type": "code",
   "execution_count": null,
   "metadata": {
    "execution": {
     "iopub.execute_input": "2020-12-01T14:51:38.945285Z",
     "iopub.status.busy": "2020-12-01T14:51:38.944178Z",
     "iopub.status.idle": "2020-12-01T14:51:38.949531Z",
     "shell.execute_reply": "2020-12-01T14:51:38.948699Z"
    },
    "papermill": {
     "duration": 0.123928,
     "end_time": "2020-12-01T14:51:38.949703",
     "exception": false,
     "start_time": "2020-12-01T14:51:38.825775",
     "status": "completed"
    },
    "slideshow": {
     "slide_type": "fragment"
    },
    "tags": []
   },
   "outputs": [],
   "source": [
    "len(test_store)"
   ]
  },
  {
   "cell_type": "markdown",
   "metadata": {
    "papermill": {
     "duration": 0.134274,
     "end_time": "2020-12-01T14:51:39.207846",
     "exception": false,
     "start_time": "2020-12-01T14:51:39.073572",
     "status": "completed"
    },
    "slideshow": {
     "slide_type": "subslide"
    },
    "tags": []
   },
   "source": [
    "### Fit the model on the train set\n",
    "Seasonal periods with value <b>365<b> indicates the seasonality we expect in the data. For item sales we can safely assume that the <u>seasonality would repeat every 30 days.</u>"
   ]
  },
  {
   "cell_type": "code",
   "execution_count": null,
   "metadata": {
    "execution": {
     "iopub.execute_input": "2020-12-01T14:51:39.460709Z",
     "iopub.status.busy": "2020-12-01T14:51:39.459354Z",
     "iopub.status.idle": "2020-12-01T14:51:39.576503Z",
     "shell.execute_reply": "2020-12-01T14:51:39.575855Z"
    },
    "papermill": {
     "duration": 0.247,
     "end_time": "2020-12-01T14:51:39.576644",
     "exception": false,
     "start_time": "2020-12-01T14:51:39.329644",
     "status": "completed"
    },
    "slideshow": {
     "slide_type": "fragment"
    },
    "tags": []
   },
   "outputs": [],
   "source": [
    "# Fit Exponential Smoothing. Use trend = 'mul', seasonal = 'mul', seasonal_periods = 365. Complete the code below.\n",
    "fitted_model = ExponentialSmoothing("
   ]
  },
  {
   "cell_type": "code",
   "execution_count": null,
   "metadata": {
    "execution": {
     "iopub.execute_input": "2020-12-01T14:51:39.831834Z",
     "iopub.status.busy": "2020-12-01T14:51:39.830848Z",
     "iopub.status.idle": "2020-12-01T14:51:39.834038Z",
     "shell.execute_reply": "2020-12-01T14:51:39.833248Z"
    },
    "papermill": {
     "duration": 0.141299,
     "end_time": "2020-12-01T14:51:39.834163",
     "exception": false,
     "start_time": "2020-12-01T14:51:39.692864",
     "status": "completed"
    },
    "slideshow": {
     "slide_type": "fragment"
    },
    "tags": []
   },
   "outputs": [],
   "source": [
    "# Predict the test set. Complete the code.\n",
    "test_predictions = fitted_model.forecast().rename('HW Test Forecast')"
   ]
  },
  {
   "cell_type": "code",
   "execution_count": null,
   "metadata": {
    "execution": {
     "iopub.execute_input": "2020-12-01T14:51:40.080799Z",
     "iopub.status.busy": "2020-12-01T14:51:40.079852Z",
     "iopub.status.idle": "2020-12-01T14:51:40.083937Z",
     "shell.execute_reply": "2020-12-01T14:51:40.084497Z"
    },
    "papermill": {
     "duration": 0.136485,
     "end_time": "2020-12-01T14:51:40.084684",
     "exception": false,
     "start_time": "2020-12-01T14:51:39.948199",
     "status": "completed"
    },
    "slideshow": {
     "slide_type": "subslide"
    },
    "tags": []
   },
   "outputs": [],
   "source": [
    "test_predictions[:10]"
   ]
  },
  {
   "cell_type": "code",
   "execution_count": null,
   "metadata": {
    "execution": {
     "iopub.execute_input": "2020-12-01T14:51:40.337827Z",
     "iopub.status.busy": "2020-12-01T14:51:40.334745Z",
     "iopub.status.idle": "2020-12-01T14:51:40.576758Z",
     "shell.execute_reply": "2020-12-01T14:51:40.575986Z"
    },
    "papermill": {
     "duration": 0.371655,
     "end_time": "2020-12-01T14:51:40.576895",
     "exception": false,
     "start_time": "2020-12-01T14:51:40.205240",
     "status": "completed"
    },
    "slideshow": {
     "slide_type": "subslide"
    },
    "tags": []
   },
   "outputs": [],
   "source": [
    "train_store['sales'].plot(legend=True,label='TRAIN')\n",
    "test_store['sales'].plot(legend=True,label='TEST',figsize=(12,8))\n",
    "plt.title('Train and Test Data');"
   ]
  },
  {
   "cell_type": "markdown",
   "metadata": {
    "papermill": {
     "duration": 0.11495,
     "end_time": "2020-12-01T14:51:40.808689",
     "exception": false,
     "start_time": "2020-12-01T14:51:40.693739",
     "status": "completed"
    },
    "slideshow": {
     "slide_type": "subslide"
    },
    "tags": []
   },
   "source": [
    "Next we will plot also the predicted test data"
   ]
  },
  {
   "cell_type": "code",
   "execution_count": null,
   "metadata": {
    "execution": {
     "iopub.execute_input": "2020-12-01T14:51:41.062283Z",
     "iopub.status.busy": "2020-12-01T14:51:41.057555Z",
     "iopub.status.idle": "2020-12-01T14:51:41.329051Z",
     "shell.execute_reply": "2020-12-01T14:51:41.328233Z"
    },
    "papermill": {
     "duration": 0.405536,
     "end_time": "2020-12-01T14:51:41.329183",
     "exception": false,
     "start_time": "2020-12-01T14:51:40.923647",
     "status": "completed"
    },
    "slideshow": {
     "slide_type": "subslide"
    },
    "tags": []
   },
   "outputs": [],
   "source": [
    "train_store['sales'].plot(legend=True,label='TRAIN')\n",
    "test_store['sales'].plot(legend=True,label='TEST',figsize=(12,8))\n",
    "test_predictions.plot(legend=True,label='PREDICTION')\n",
    "plt.title('Train, Test and Predicted Test using Holt Winters');"
   ]
  },
  {
   "cell_type": "markdown",
   "metadata": {
    "papermill": {
     "duration": 0.123885,
     "end_time": "2020-12-01T14:51:41.611365",
     "exception": false,
     "start_time": "2020-12-01T14:51:41.487480",
     "status": "completed"
    },
    "slideshow": {
     "slide_type": "subslide"
    },
    "tags": []
   },
   "source": [
    "Plot for the recent rows"
   ]
  },
  {
   "cell_type": "code",
   "execution_count": null,
   "metadata": {
    "execution": {
     "iopub.execute_input": "2020-12-01T14:51:41.863158Z",
     "iopub.status.busy": "2020-12-01T14:51:41.862287Z",
     "iopub.status.idle": "2020-12-01T14:51:42.206238Z",
     "shell.execute_reply": "2020-12-01T14:51:42.205241Z"
    },
    "papermill": {
     "duration": 0.47772,
     "end_time": "2020-12-01T14:51:42.206493",
     "exception": false,
     "start_time": "2020-12-01T14:51:41.728773",
     "status": "completed"
    },
    "slideshow": {
     "slide_type": "subslide"
    },
    "tags": []
   },
   "outputs": [],
   "source": [
    "# Complete code here. \n"
   ]
  },
  {
   "cell_type": "markdown",
   "metadata": {
    "papermill": {
     "duration": 0.12184,
     "end_time": "2020-12-01T14:51:42.452770",
     "exception": false,
     "start_time": "2020-12-01T14:51:42.330930",
     "status": "completed"
    },
    "slideshow": {
     "slide_type": "slide"
    },
    "tags": []
   },
   "source": [
    "### Evaluation metrics"
   ]
  },
  {
   "cell_type": "code",
   "execution_count": 22,
   "metadata": {
    "execution": {
     "iopub.execute_input": "2020-12-01T14:51:42.700327Z",
     "iopub.status.busy": "2020-12-01T14:51:42.699359Z",
     "iopub.status.idle": "2020-12-01T14:51:42.824870Z",
     "shell.execute_reply": "2020-12-01T14:51:42.824053Z"
    },
    "papermill": {
     "duration": 0.249235,
     "end_time": "2020-12-01T14:51:42.825003",
     "exception": false,
     "start_time": "2020-12-01T14:51:42.575768",
     "status": "completed"
    },
    "slideshow": {
     "slide_type": "fragment"
    },
    "tags": []
   },
   "outputs": [],
   "source": [
    "# Import evaluation metrics (mean_absolute_error, mean_squared_er)"
   ]
  },
  {
   "cell_type": "code",
   "execution_count": null,
   "metadata": {
    "execution": {
     "iopub.execute_input": "2020-12-01T14:51:43.078806Z",
     "iopub.status.busy": "2020-12-01T14:51:43.077841Z",
     "iopub.status.idle": "2020-12-01T14:51:43.081987Z",
     "shell.execute_reply": "2020-12-01T14:51:43.082824Z"
    },
    "papermill": {
     "duration": 0.138152,
     "end_time": "2020-12-01T14:51:43.083019",
     "exception": false,
     "start_time": "2020-12-01T14:51:42.944867",
     "status": "completed"
    },
    "slideshow": {
     "slide_type": "fragment"
    },
    "tags": []
   },
   "outputs": [],
   "source": [
    "# Print Mean Absolute Error here. "
   ]
  },
  {
   "cell_type": "code",
   "execution_count": null,
   "metadata": {
    "execution": {
     "iopub.execute_input": "2020-12-01T14:51:43.347200Z",
     "iopub.status.busy": "2020-12-01T14:51:43.346186Z",
     "iopub.status.idle": "2020-12-01T14:51:43.351343Z",
     "shell.execute_reply": "2020-12-01T14:51:43.350701Z"
    },
    "papermill": {
     "duration": 0.137799,
     "end_time": "2020-12-01T14:51:43.351485",
     "exception": false,
     "start_time": "2020-12-01T14:51:43.213686",
     "status": "completed"
    },
    "slideshow": {
     "slide_type": "fragment"
    },
    "tags": []
   },
   "outputs": [],
   "source": [
    "#Print Mean Squared Error here. \n"
   ]
  },
  {
   "cell_type": "code",
   "execution_count": null,
   "metadata": {
    "execution": {
     "iopub.execute_input": "2020-12-01T14:51:43.602800Z",
     "iopub.status.busy": "2020-12-01T14:51:43.601851Z",
     "iopub.status.idle": "2020-12-01T14:51:43.615463Z",
     "shell.execute_reply": "2020-12-01T14:51:43.614812Z"
    },
    "papermill": {
     "duration": 0.143526,
     "end_time": "2020-12-01T14:51:43.615587",
     "exception": false,
     "start_time": "2020-12-01T14:51:43.472061",
     "status": "completed"
    },
    "slideshow": {
     "slide_type": "subslide"
    },
    "tags": []
   },
   "outputs": [],
   "source": [
    "test_store.describe()"
   ]
  },
  {
   "cell_type": "markdown",
   "metadata": {
    "papermill": {
     "duration": 0.122846,
     "end_time": "2020-12-01T14:51:45.844182",
     "exception": false,
     "start_time": "2020-12-01T14:51:45.721336",
     "status": "completed"
    },
    "slideshow": {
     "slide_type": "slide"
    },
    "tags": []
   },
   "source": [
    "## END"
   ]
  }
 ],
 "metadata": {
  "celltoolbar": "Slideshow",
  "kernelspec": {
   "display_name": "Python 3 (ipykernel)",
   "language": "python",
   "name": "python3"
  },
  "language_info": {
   "codemirror_mode": {
    "name": "ipython",
    "version": 3
   },
   "file_extension": ".py",
   "mimetype": "text/x-python",
   "name": "python",
   "nbconvert_exporter": "python",
   "pygments_lexer": "ipython3",
   "version": "3.7.9"
  },
  "papermill": {
   "duration": 35.751887,
   "end_time": "2020-12-01T14:51:46.079124",
   "environment_variables": {},
   "exception": null,
   "input_path": "__notebook__.ipynb",
   "output_path": "__notebook__.ipynb",
   "parameters": {},
   "start_time": "2020-12-01T14:51:10.327237",
   "version": "2.1.0"
  }
 },
 "nbformat": 4,
 "nbformat_minor": 4
}
